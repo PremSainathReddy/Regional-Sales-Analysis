{
 "cells": [
  {
   "cell_type": "markdown",
   "metadata": {
    "id": "V130xxUSZTia"
   },
   "source": [
    "# **🗂️Project Name**    - USA Regional Sales Analysis"
   ]
  },
  {
   "cell_type": "markdown",
   "metadata": {
    "id": "ya9wfgzWZhsU"
   },
   "source": [
    "# **👩🏻‍💻📊 Project Summary – Sales EDA for Prem Co. (2014–2018, USA)**\n",
    "\n",
    "This Exploratory Data Analysis (EDA) project offers deep insights into Prem Co.’s U.S. sales data (2014–2018), uncovering trends, patterns, and business opportunities.\n",
    "\n",
    "# **🧹 1. Data Profiling & Cleaning**\n",
    "  *  ✅ Verified data schema and consistency\n",
    "\n",
    "  *  🛠️ Handled missing budget values\n",
    "\n",
    "  *  🧾 Corrected data types for accurate temporal and numerical analysis\n",
    "\n",
    "# **📈 2. Univariate & Bivariate Analysis**\n",
    "\n",
    "   * 🔍 Explored distributions of key metrics: revenue, profit margin, unit price, and quantity\n",
    "\n",
    "   *  🛍️ Analyzed top-performing products, sales channels, and regional trends\n",
    "\n",
    "   * 👤 Segmented customers by behavior and performance\n",
    "\n",
    "# **📅 3. Trend & Seasonality**\n",
    "\n",
    "  *  📆 Charted monthly and yearly revenue trends\n",
    "\n",
    "  *  🌀 Identified seasonal shifts and periodic dips, with standout anomalies (e.g., 2017 dip)\n",
    "\n",
    "# **🚨 4. Outlier Detection**\n",
    "\n",
    "  *  📊 Detected unusually high or low-value transactions\n",
    "\n",
    "  *  🧮 Highlighted pricing and quantity extremes influencing overall metrics\n",
    "\n",
    "# **🔗 5. Correlation & Customer Segmentation**\n",
    "\n",
    "  *  🔗 Assessed relationships between revenue, cost, profit, unit price, and quantity\n",
    "\n",
    "  *  🎯 Used bubble charts to segment customers by revenue, profit margin, and order volume"
   ]
  },
  {
   "cell_type": "markdown",
   "metadata": {
    "id": "jXZqgcAfa4h1"
   },
   "source": [
    "# **🎯 Project Objective – Prem Co. Sales Analysis (2014–2018)**\n",
    "\n",
    "This EDA project delivers actionable insights from Prem Co.’s U.S. sales data (2014–2018) to support data-driven strategic decisions and guide the development of a Power BI dashboard.\n",
    "\n",
    "# **🔍 Key Objectives:**\n",
    "\n",
    "  *  ✅ Identify top-performing products, sales channels, and regions that drive revenue and profitability\n",
    "\n",
    "  *  📆 Uncover seasonal trends and detect sales anomalies for better demand forecasting and planning\n",
    "\n",
    "  * ⚠️ Spot outliers in pricing and margins that may indicate risks or optimization opportunities\n",
    "\n",
    "  *  📊 Inform pricing, promotion, and market expansion strategies using deep sales and margin analysis"
   ]
  },
  {
   "cell_type": "markdown",
   "metadata": {
    "id": "-MHC87RobMBc"
   },
   "source": [
    "# **📥 Setup & Configuration**"
   ]
  },
  {
   "cell_type": "code",
   "execution_count": 1,
   "metadata": {
    "executionInfo": {
     "elapsed": 1366,
     "status": "ok",
     "timestamp": 1752635286381,
     "user": {
      "displayName": "Premsainath Reddy",
      "userId": "07841810758834407388"
     },
     "user_tz": -330
    },
    "id": "L5qPNHFLkIP1"
   },
   "outputs": [],
   "source": [
    "# 📘 IMPORT LIBRARIES\n",
    "import pandas as pd\n",
    "import numpy as np\n",
    "import matplotlib.pyplot as plt\n",
    "import seaborn as sns"
   ]
  },
  {
   "cell_type": "code",
   "execution_count": 2,
   "metadata": {
    "colab": {
     "base_uri": "https://localhost:8080/"
    },
    "executionInfo": {
     "elapsed": 62025,
     "status": "ok",
     "timestamp": 1752635348439,
     "user": {
      "displayName": "Premsainath Reddy",
      "userId": "07841810758834407388"
     },
     "user_tz": -330
    },
    "id": "rXC0lwf7lLMi",
    "outputId": "d5cb4b42-c9a8-427a-f879-1fae9c6253d4"
   },
   "outputs": [],
   "source": [
    "# 📂 LOADING DATA\n",
    "\n",
    "# Mount Google Drive if you are using colab\n",
    "# from google.colab import drive\n",
    "# drive.mount('/content/drive')\n",
    "\n",
    "# Path to your Excel workbook\n",
    "file_path = 'Data/Regional Sales Dataset.xlsx'\n",
    "\n",
    "# Read all sheets at once\n",
    "sheets = pd.read_excel(file_path, sheet_name=None)\n",
    "\n",
    "# Assign to named DataFrames\n",
    "df_sales       = sheets['Sales Orders']\n",
    "df_customers   = sheets['Customers']\n",
    "df_products    = sheets['Products']\n",
    "df_regions     = sheets['Regions']\n",
    "df_state_reg   = sheets['State Regions']\n",
    "df_budgets     = sheets['2017 Budgets']"
   ]
  },
  {
   "cell_type": "code",
   "execution_count": 3,
   "metadata": {
    "colab": {
     "base_uri": "https://localhost:8080/"
    },
    "executionInfo": {
     "elapsed": 222,
     "status": "ok",
     "timestamp": 1752635348737,
     "user": {
      "displayName": "Premsainath Reddy",
      "userId": "07841810758834407388"
     },
     "user_tz": -330
    },
    "id": "cICxna73luoO",
    "outputId": "04aec574-2cbb-45c6-89b9-6fde37d73882"
   },
   "outputs": [
    {
     "name": "stdout",
     "output_type": "stream",
     "text": [
      "df_sales shape : (64104, 12)\n",
      "df_customers shape : (175, 2)\n",
      "df_products shape : (30, 2)\n",
      "df_regions shape : (994, 15)\n",
      "df_state_reg shape : (49, 3)\n",
      "df_budgets shape : (30, 2)\n"
     ]
    }
   ],
   "source": [
    "# Over View of Shape\n",
    "print(f\"df_sales shape : {df_sales.shape}\")\n",
    "print(f\"df_customers shape : {df_customers.shape}\")\n",
    "print(f\"df_products shape : {df_products.shape}\")\n",
    "print(f\"df_regions shape : {df_regions.shape}\")\n",
    "print(f\"df_state_reg shape : {df_state_reg.shape}\")\n",
    "print(f\"df_budgets shape : {df_budgets.shape}\")"
   ]
  },
  {
   "cell_type": "markdown",
   "metadata": {
    "id": "F_kCFoVknA9e"
   },
   "source": [
    "# **🧐 Data Exploration**"
   ]
  },
  {
   "cell_type": "code",
   "execution_count": 4,
   "metadata": {
    "colab": {
     "base_uri": "https://localhost:8080/",
     "height": 1000
    },
    "executionInfo": {
     "elapsed": 896,
     "status": "ok",
     "timestamp": 1752635349639,
     "user": {
      "displayName": "Premsainath Reddy",
      "userId": "07841810758834407388"
     },
     "user_tz": -330
    },
    "id": "UjMlrqi2lLS1",
    "outputId": "8d3b711d-8fc2-4b22-adb5-48ac5ab55337"
   },
   "outputs": [
    {
     "name": "stdout",
     "output_type": "stream",
     "text": [
      "\n",
      "-Sales Data-Frame-\n"
     ]
    },
    {
     "data": {
      "text/html": [
       "<div>\n",
       "<style scoped>\n",
       "    .dataframe tbody tr th:only-of-type {\n",
       "        vertical-align: middle;\n",
       "    }\n",
       "\n",
       "    .dataframe tbody tr th {\n",
       "        vertical-align: top;\n",
       "    }\n",
       "\n",
       "    .dataframe thead th {\n",
       "        text-align: right;\n",
       "    }\n",
       "</style>\n",
       "<table border=\"1\" class=\"dataframe\">\n",
       "  <thead>\n",
       "    <tr style=\"text-align: right;\">\n",
       "      <th></th>\n",
       "      <th>OrderNumber</th>\n",
       "      <th>OrderDate</th>\n",
       "      <th>Customer Name Index</th>\n",
       "      <th>Channel</th>\n",
       "      <th>Currency Code</th>\n",
       "      <th>Warehouse Code</th>\n",
       "      <th>Delivery Region Index</th>\n",
       "      <th>Product Description Index</th>\n",
       "      <th>Order Quantity</th>\n",
       "      <th>Unit Price</th>\n",
       "      <th>Line Total</th>\n",
       "      <th>Total Unit Cost</th>\n",
       "    </tr>\n",
       "  </thead>\n",
       "  <tbody>\n",
       "    <tr>\n",
       "      <th>0</th>\n",
       "      <td>SO - 000225</td>\n",
       "      <td>2014-01-01</td>\n",
       "      <td>126</td>\n",
       "      <td>Wholesale</td>\n",
       "      <td>USD</td>\n",
       "      <td>AXW291</td>\n",
       "      <td>364</td>\n",
       "      <td>27</td>\n",
       "      <td>6</td>\n",
       "      <td>2499.1</td>\n",
       "      <td>14994.6</td>\n",
       "      <td>1824.343</td>\n",
       "    </tr>\n",
       "    <tr>\n",
       "      <th>1</th>\n",
       "      <td>SO - 0003378</td>\n",
       "      <td>2014-01-01</td>\n",
       "      <td>96</td>\n",
       "      <td>Distributor</td>\n",
       "      <td>USD</td>\n",
       "      <td>AXW291</td>\n",
       "      <td>488</td>\n",
       "      <td>20</td>\n",
       "      <td>11</td>\n",
       "      <td>2351.7</td>\n",
       "      <td>25868.7</td>\n",
       "      <td>1269.918</td>\n",
       "    </tr>\n",
       "    <tr>\n",
       "      <th>2</th>\n",
       "      <td>SO - 0005126</td>\n",
       "      <td>2014-01-01</td>\n",
       "      <td>8</td>\n",
       "      <td>Wholesale</td>\n",
       "      <td>USD</td>\n",
       "      <td>AXW291</td>\n",
       "      <td>155</td>\n",
       "      <td>26</td>\n",
       "      <td>6</td>\n",
       "      <td>978.2</td>\n",
       "      <td>5869.2</td>\n",
       "      <td>684.740</td>\n",
       "    </tr>\n",
       "    <tr>\n",
       "      <th>3</th>\n",
       "      <td>SO - 0005614</td>\n",
       "      <td>2014-01-01</td>\n",
       "      <td>42</td>\n",
       "      <td>Export</td>\n",
       "      <td>USD</td>\n",
       "      <td>AXW291</td>\n",
       "      <td>473</td>\n",
       "      <td>7</td>\n",
       "      <td>7</td>\n",
       "      <td>2338.3</td>\n",
       "      <td>16368.1</td>\n",
       "      <td>1028.852</td>\n",
       "    </tr>\n",
       "    <tr>\n",
       "      <th>4</th>\n",
       "      <td>SO - 0005781</td>\n",
       "      <td>2014-01-01</td>\n",
       "      <td>73</td>\n",
       "      <td>Wholesale</td>\n",
       "      <td>USD</td>\n",
       "      <td>AXW291</td>\n",
       "      <td>256</td>\n",
       "      <td>8</td>\n",
       "      <td>8</td>\n",
       "      <td>2291.4</td>\n",
       "      <td>18331.2</td>\n",
       "      <td>1260.270</td>\n",
       "    </tr>\n",
       "  </tbody>\n",
       "</table>\n",
       "</div>"
      ],
      "text/plain": [
       "    OrderNumber  OrderDate  Customer Name Index      Channel Currency Code  \\\n",
       "0   SO - 000225 2014-01-01                  126    Wholesale           USD   \n",
       "1  SO - 0003378 2014-01-01                   96  Distributor           USD   \n",
       "2  SO - 0005126 2014-01-01                    8    Wholesale           USD   \n",
       "3  SO - 0005614 2014-01-01                   42       Export           USD   \n",
       "4  SO - 0005781 2014-01-01                   73    Wholesale           USD   \n",
       "\n",
       "  Warehouse Code  Delivery Region Index  Product Description Index  \\\n",
       "0         AXW291                    364                         27   \n",
       "1         AXW291                    488                         20   \n",
       "2         AXW291                    155                         26   \n",
       "3         AXW291                    473                          7   \n",
       "4         AXW291                    256                          8   \n",
       "\n",
       "   Order Quantity  Unit Price  Line Total  Total Unit Cost  \n",
       "0               6      2499.1     14994.6         1824.343  \n",
       "1              11      2351.7     25868.7         1269.918  \n",
       "2               6       978.2      5869.2          684.740  \n",
       "3               7      2338.3     16368.1         1028.852  \n",
       "4               8      2291.4     18331.2         1260.270  "
      ]
     },
     "metadata": {},
     "output_type": "display_data"
    },
    {
     "name": "stdout",
     "output_type": "stream",
     "text": [
      "\n",
      "\n",
      "-Customers Data-Frame-\n"
     ]
    },
    {
     "data": {
      "text/html": [
       "<div>\n",
       "<style scoped>\n",
       "    .dataframe tbody tr th:only-of-type {\n",
       "        vertical-align: middle;\n",
       "    }\n",
       "\n",
       "    .dataframe tbody tr th {\n",
       "        vertical-align: top;\n",
       "    }\n",
       "\n",
       "    .dataframe thead th {\n",
       "        text-align: right;\n",
       "    }\n",
       "</style>\n",
       "<table border=\"1\" class=\"dataframe\">\n",
       "  <thead>\n",
       "    <tr style=\"text-align: right;\">\n",
       "      <th></th>\n",
       "      <th>Customer Index</th>\n",
       "      <th>Customer Names</th>\n",
       "    </tr>\n",
       "  </thead>\n",
       "  <tbody>\n",
       "    <tr>\n",
       "      <th>0</th>\n",
       "      <td>1</td>\n",
       "      <td>Geiss Company</td>\n",
       "    </tr>\n",
       "    <tr>\n",
       "      <th>1</th>\n",
       "      <td>2</td>\n",
       "      <td>Jaxbean Group</td>\n",
       "    </tr>\n",
       "    <tr>\n",
       "      <th>2</th>\n",
       "      <td>3</td>\n",
       "      <td>Ascend Ltd</td>\n",
       "    </tr>\n",
       "    <tr>\n",
       "      <th>3</th>\n",
       "      <td>4</td>\n",
       "      <td>Eire Corp</td>\n",
       "    </tr>\n",
       "    <tr>\n",
       "      <th>4</th>\n",
       "      <td>5</td>\n",
       "      <td>Blogtags Ltd</td>\n",
       "    </tr>\n",
       "  </tbody>\n",
       "</table>\n",
       "</div>"
      ],
      "text/plain": [
       "   Customer Index Customer Names\n",
       "0               1  Geiss Company\n",
       "1               2  Jaxbean Group\n",
       "2               3     Ascend Ltd\n",
       "3               4      Eire Corp\n",
       "4               5   Blogtags Ltd"
      ]
     },
     "metadata": {},
     "output_type": "display_data"
    },
    {
     "name": "stdout",
     "output_type": "stream",
     "text": [
      "\n",
      "\n",
      "-Product Data-Frame-\n"
     ]
    },
    {
     "data": {
      "text/html": [
       "<div>\n",
       "<style scoped>\n",
       "    .dataframe tbody tr th:only-of-type {\n",
       "        vertical-align: middle;\n",
       "    }\n",
       "\n",
       "    .dataframe tbody tr th {\n",
       "        vertical-align: top;\n",
       "    }\n",
       "\n",
       "    .dataframe thead th {\n",
       "        text-align: right;\n",
       "    }\n",
       "</style>\n",
       "<table border=\"1\" class=\"dataframe\">\n",
       "  <thead>\n",
       "    <tr style=\"text-align: right;\">\n",
       "      <th></th>\n",
       "      <th>Index</th>\n",
       "      <th>Product Name</th>\n",
       "    </tr>\n",
       "  </thead>\n",
       "  <tbody>\n",
       "    <tr>\n",
       "      <th>0</th>\n",
       "      <td>1</td>\n",
       "      <td>Product 1</td>\n",
       "    </tr>\n",
       "    <tr>\n",
       "      <th>1</th>\n",
       "      <td>2</td>\n",
       "      <td>Product 2</td>\n",
       "    </tr>\n",
       "    <tr>\n",
       "      <th>2</th>\n",
       "      <td>3</td>\n",
       "      <td>Product 3</td>\n",
       "    </tr>\n",
       "    <tr>\n",
       "      <th>3</th>\n",
       "      <td>4</td>\n",
       "      <td>Product 4</td>\n",
       "    </tr>\n",
       "    <tr>\n",
       "      <th>4</th>\n",
       "      <td>5</td>\n",
       "      <td>Product 5</td>\n",
       "    </tr>\n",
       "  </tbody>\n",
       "</table>\n",
       "</div>"
      ],
      "text/plain": [
       "   Index Product Name\n",
       "0      1    Product 1\n",
       "1      2    Product 2\n",
       "2      3    Product 3\n",
       "3      4    Product 4\n",
       "4      5    Product 5"
      ]
     },
     "metadata": {},
     "output_type": "display_data"
    },
    {
     "name": "stdout",
     "output_type": "stream",
     "text": [
      "\n",
      "\n",
      "-Region Data-Frame-\n"
     ]
    },
    {
     "data": {
      "text/html": [
       "<div>\n",
       "<style scoped>\n",
       "    .dataframe tbody tr th:only-of-type {\n",
       "        vertical-align: middle;\n",
       "    }\n",
       "\n",
       "    .dataframe tbody tr th {\n",
       "        vertical-align: top;\n",
       "    }\n",
       "\n",
       "    .dataframe thead th {\n",
       "        text-align: right;\n",
       "    }\n",
       "</style>\n",
       "<table border=\"1\" class=\"dataframe\">\n",
       "  <thead>\n",
       "    <tr style=\"text-align: right;\">\n",
       "      <th></th>\n",
       "      <th>id</th>\n",
       "      <th>name</th>\n",
       "      <th>county</th>\n",
       "      <th>state_code</th>\n",
       "      <th>state</th>\n",
       "      <th>type</th>\n",
       "      <th>latitude</th>\n",
       "      <th>longitude</th>\n",
       "      <th>area_code</th>\n",
       "      <th>population</th>\n",
       "      <th>households</th>\n",
       "      <th>median_income</th>\n",
       "      <th>land_area</th>\n",
       "      <th>water_area</th>\n",
       "      <th>time_zone</th>\n",
       "    </tr>\n",
       "  </thead>\n",
       "  <tbody>\n",
       "    <tr>\n",
       "      <th>0</th>\n",
       "      <td>1</td>\n",
       "      <td>Auburn</td>\n",
       "      <td>Lee County</td>\n",
       "      <td>AL</td>\n",
       "      <td>Alabama</td>\n",
       "      <td>City</td>\n",
       "      <td>32.60986</td>\n",
       "      <td>-85.48078</td>\n",
       "      <td>334</td>\n",
       "      <td>62059</td>\n",
       "      <td>21767</td>\n",
       "      <td>38342</td>\n",
       "      <td>152375113</td>\n",
       "      <td>2646161</td>\n",
       "      <td>America/Chicago</td>\n",
       "    </tr>\n",
       "    <tr>\n",
       "      <th>1</th>\n",
       "      <td>2</td>\n",
       "      <td>Birmingham</td>\n",
       "      <td>Shelby County/Jefferson County</td>\n",
       "      <td>AL</td>\n",
       "      <td>Alabama</td>\n",
       "      <td>City</td>\n",
       "      <td>33.52744</td>\n",
       "      <td>-86.79905</td>\n",
       "      <td>205</td>\n",
       "      <td>212461</td>\n",
       "      <td>89972</td>\n",
       "      <td>31061</td>\n",
       "      <td>378353942</td>\n",
       "      <td>6591013</td>\n",
       "      <td>America/Chicago</td>\n",
       "    </tr>\n",
       "    <tr>\n",
       "      <th>2</th>\n",
       "      <td>3</td>\n",
       "      <td>Decatur</td>\n",
       "      <td>Limestone County/Morgan County</td>\n",
       "      <td>AL</td>\n",
       "      <td>Alabama</td>\n",
       "      <td>City</td>\n",
       "      <td>34.57332</td>\n",
       "      <td>-86.99214</td>\n",
       "      <td>256</td>\n",
       "      <td>55437</td>\n",
       "      <td>22294</td>\n",
       "      <td>41496</td>\n",
       "      <td>141006257</td>\n",
       "      <td>17594716</td>\n",
       "      <td>America/Chicago</td>\n",
       "    </tr>\n",
       "    <tr>\n",
       "      <th>3</th>\n",
       "      <td>4</td>\n",
       "      <td>Dothan</td>\n",
       "      <td>Dale County/Houston County/Henry County</td>\n",
       "      <td>AL</td>\n",
       "      <td>Alabama</td>\n",
       "      <td>City</td>\n",
       "      <td>31.23370</td>\n",
       "      <td>-85.40682</td>\n",
       "      <td>334</td>\n",
       "      <td>68567</td>\n",
       "      <td>25913</td>\n",
       "      <td>42426</td>\n",
       "      <td>232166237</td>\n",
       "      <td>835468</td>\n",
       "      <td>America/Chicago</td>\n",
       "    </tr>\n",
       "    <tr>\n",
       "      <th>4</th>\n",
       "      <td>5</td>\n",
       "      <td>Hoover</td>\n",
       "      <td>Shelby County/Jefferson County</td>\n",
       "      <td>AL</td>\n",
       "      <td>Alabama</td>\n",
       "      <td>City</td>\n",
       "      <td>33.37695</td>\n",
       "      <td>-86.80558</td>\n",
       "      <td>205</td>\n",
       "      <td>84848</td>\n",
       "      <td>32789</td>\n",
       "      <td>77146</td>\n",
       "      <td>122016784</td>\n",
       "      <td>2553332</td>\n",
       "      <td>America/Chicago</td>\n",
       "    </tr>\n",
       "  </tbody>\n",
       "</table>\n",
       "</div>"
      ],
      "text/plain": [
       "   id        name                                   county state_code  \\\n",
       "0   1      Auburn                               Lee County         AL   \n",
       "1   2  Birmingham           Shelby County/Jefferson County         AL   \n",
       "2   3     Decatur           Limestone County/Morgan County         AL   \n",
       "3   4      Dothan  Dale County/Houston County/Henry County         AL   \n",
       "4   5      Hoover           Shelby County/Jefferson County         AL   \n",
       "\n",
       "     state  type  latitude  longitude  area_code  population  households  \\\n",
       "0  Alabama  City  32.60986  -85.48078        334       62059       21767   \n",
       "1  Alabama  City  33.52744  -86.79905        205      212461       89972   \n",
       "2  Alabama  City  34.57332  -86.99214        256       55437       22294   \n",
       "3  Alabama  City  31.23370  -85.40682        334       68567       25913   \n",
       "4  Alabama  City  33.37695  -86.80558        205       84848       32789   \n",
       "\n",
       "   median_income  land_area  water_area        time_zone  \n",
       "0          38342  152375113     2646161  America/Chicago  \n",
       "1          31061  378353942     6591013  America/Chicago  \n",
       "2          41496  141006257    17594716  America/Chicago  \n",
       "3          42426  232166237      835468  America/Chicago  \n",
       "4          77146  122016784     2553332  America/Chicago  "
      ]
     },
     "metadata": {},
     "output_type": "display_data"
    },
    {
     "name": "stdout",
     "output_type": "stream",
     "text": [
      "\n",
      "\n",
      "-State Region Data-Frame-\n"
     ]
    },
    {
     "data": {
      "text/html": [
       "<div>\n",
       "<style scoped>\n",
       "    .dataframe tbody tr th:only-of-type {\n",
       "        vertical-align: middle;\n",
       "    }\n",
       "\n",
       "    .dataframe tbody tr th {\n",
       "        vertical-align: top;\n",
       "    }\n",
       "\n",
       "    .dataframe thead th {\n",
       "        text-align: right;\n",
       "    }\n",
       "</style>\n",
       "<table border=\"1\" class=\"dataframe\">\n",
       "  <thead>\n",
       "    <tr style=\"text-align: right;\">\n",
       "      <th></th>\n",
       "      <th>Column1</th>\n",
       "      <th>Column2</th>\n",
       "      <th>Column3</th>\n",
       "    </tr>\n",
       "  </thead>\n",
       "  <tbody>\n",
       "    <tr>\n",
       "      <th>0</th>\n",
       "      <td>State Code</td>\n",
       "      <td>State</td>\n",
       "      <td>Region</td>\n",
       "    </tr>\n",
       "    <tr>\n",
       "      <th>1</th>\n",
       "      <td>AL</td>\n",
       "      <td>Alabama</td>\n",
       "      <td>South</td>\n",
       "    </tr>\n",
       "    <tr>\n",
       "      <th>2</th>\n",
       "      <td>AR</td>\n",
       "      <td>Arkansas</td>\n",
       "      <td>South</td>\n",
       "    </tr>\n",
       "    <tr>\n",
       "      <th>3</th>\n",
       "      <td>AZ</td>\n",
       "      <td>Arizona</td>\n",
       "      <td>West</td>\n",
       "    </tr>\n",
       "    <tr>\n",
       "      <th>4</th>\n",
       "      <td>CA</td>\n",
       "      <td>California</td>\n",
       "      <td>West</td>\n",
       "    </tr>\n",
       "  </tbody>\n",
       "</table>\n",
       "</div>"
      ],
      "text/plain": [
       "      Column1     Column2 Column3\n",
       "0  State Code       State  Region\n",
       "1          AL     Alabama   South\n",
       "2          AR    Arkansas   South\n",
       "3          AZ     Arizona    West\n",
       "4          CA  California    West"
      ]
     },
     "metadata": {},
     "output_type": "display_data"
    },
    {
     "name": "stdout",
     "output_type": "stream",
     "text": [
      "\n",
      "\n",
      "-Budgets Data-Frame-\n"
     ]
    },
    {
     "data": {
      "text/html": [
       "<div>\n",
       "<style scoped>\n",
       "    .dataframe tbody tr th:only-of-type {\n",
       "        vertical-align: middle;\n",
       "    }\n",
       "\n",
       "    .dataframe tbody tr th {\n",
       "        vertical-align: top;\n",
       "    }\n",
       "\n",
       "    .dataframe thead th {\n",
       "        text-align: right;\n",
       "    }\n",
       "</style>\n",
       "<table border=\"1\" class=\"dataframe\">\n",
       "  <thead>\n",
       "    <tr style=\"text-align: right;\">\n",
       "      <th></th>\n",
       "      <th>Product Name</th>\n",
       "      <th>2017 Budgets</th>\n",
       "    </tr>\n",
       "  </thead>\n",
       "  <tbody>\n",
       "    <tr>\n",
       "      <th>0</th>\n",
       "      <td>Product 1</td>\n",
       "      <td>3016489.209</td>\n",
       "    </tr>\n",
       "    <tr>\n",
       "      <th>1</th>\n",
       "      <td>Product 2</td>\n",
       "      <td>3050087.565</td>\n",
       "    </tr>\n",
       "    <tr>\n",
       "      <th>2</th>\n",
       "      <td>Product 3</td>\n",
       "      <td>2642352.432</td>\n",
       "    </tr>\n",
       "    <tr>\n",
       "      <th>3</th>\n",
       "      <td>Product 4</td>\n",
       "      <td>2885560.824</td>\n",
       "    </tr>\n",
       "    <tr>\n",
       "      <th>4</th>\n",
       "      <td>Product 5</td>\n",
       "      <td>3925424.542</td>\n",
       "    </tr>\n",
       "  </tbody>\n",
       "</table>\n",
       "</div>"
      ],
      "text/plain": [
       "  Product Name  2017 Budgets\n",
       "0    Product 1   3016489.209\n",
       "1    Product 2   3050087.565\n",
       "2    Product 3   2642352.432\n",
       "3    Product 4   2885560.824\n",
       "4    Product 5   3925424.542"
      ]
     },
     "metadata": {},
     "output_type": "display_data"
    },
    {
     "name": "stdout",
     "output_type": "stream",
     "text": [
      "\n"
     ]
    }
   ],
   "source": [
    "# Viewing of all Data-Frames\n",
    "\n",
    "print(\"\\n-Sales Data-Frame-\")\n",
    "display(df_sales.head())\n",
    "print()\n",
    "\n",
    "print(\"\\n-Customers Data-Frame-\")\n",
    "display(df_customers.head())\n",
    "print()\n",
    "\n",
    "print(\"\\n-Product Data-Frame-\")\n",
    "display(df_products.head())\n",
    "print()\n",
    "\n",
    "print(\"\\n-Region Data-Frame-\")\n",
    "display(df_regions.head())\n",
    "print()\n",
    "\n",
    "print(\"\\n-State Region Data-Frame-\")\n",
    "display(df_state_reg.head())\n",
    "print()\n",
    "\n",
    "print(\"\\n-Budgets Data-Frame-\")\n",
    "display(df_budgets.head())\n",
    "print()"
   ]
  },
  {
   "cell_type": "code",
   "execution_count": 5,
   "metadata": {
    "executionInfo": {
     "elapsed": 44,
     "status": "ok",
     "timestamp": 1752635349692,
     "user": {
      "displayName": "Premsainath Reddy",
      "userId": "07841810758834407388"
     },
     "user_tz": -330
    },
    "id": "VCqjgp9UlLVV"
   },
   "outputs": [],
   "source": [
    "# 🛠 Resolving the State Gegion Data Frame Header issue\n",
    "\n",
    "df_state_reg.columns=df_state_reg.iloc[0]\n",
    "df_state_reg=df_state_reg.iloc[1:].reset_index(drop=True)"
   ]
  },
  {
   "cell_type": "code",
   "execution_count": 6,
   "metadata": {
    "colab": {
     "base_uri": "https://localhost:8080/",
     "height": 206
    },
    "executionInfo": {
     "elapsed": 22,
     "status": "ok",
     "timestamp": 1752635349725,
     "user": {
      "displayName": "Premsainath Reddy",
      "userId": "07841810758834407388"
     },
     "user_tz": -330
    },
    "id": "rw15cvXopxzc",
    "outputId": "107b6c06-6c9b-41ac-fb05-f985b1d2d207"
   },
   "outputs": [
    {
     "data": {
      "text/html": [
       "<div>\n",
       "<style scoped>\n",
       "    .dataframe tbody tr th:only-of-type {\n",
       "        vertical-align: middle;\n",
       "    }\n",
       "\n",
       "    .dataframe tbody tr th {\n",
       "        vertical-align: top;\n",
       "    }\n",
       "\n",
       "    .dataframe thead th {\n",
       "        text-align: right;\n",
       "    }\n",
       "</style>\n",
       "<table border=\"1\" class=\"dataframe\">\n",
       "  <thead>\n",
       "    <tr style=\"text-align: right;\">\n",
       "      <th></th>\n",
       "      <th>State Code</th>\n",
       "      <th>State</th>\n",
       "      <th>Region</th>\n",
       "    </tr>\n",
       "  </thead>\n",
       "  <tbody>\n",
       "    <tr>\n",
       "      <th>0</th>\n",
       "      <td>AL</td>\n",
       "      <td>Alabama</td>\n",
       "      <td>South</td>\n",
       "    </tr>\n",
       "    <tr>\n",
       "      <th>1</th>\n",
       "      <td>AR</td>\n",
       "      <td>Arkansas</td>\n",
       "      <td>South</td>\n",
       "    </tr>\n",
       "    <tr>\n",
       "      <th>2</th>\n",
       "      <td>AZ</td>\n",
       "      <td>Arizona</td>\n",
       "      <td>West</td>\n",
       "    </tr>\n",
       "    <tr>\n",
       "      <th>3</th>\n",
       "      <td>CA</td>\n",
       "      <td>California</td>\n",
       "      <td>West</td>\n",
       "    </tr>\n",
       "    <tr>\n",
       "      <th>4</th>\n",
       "      <td>CO</td>\n",
       "      <td>Colorado</td>\n",
       "      <td>West</td>\n",
       "    </tr>\n",
       "  </tbody>\n",
       "</table>\n",
       "</div>"
      ],
      "text/plain": [
       "0 State Code       State Region\n",
       "0         AL     Alabama  South\n",
       "1         AR    Arkansas  South\n",
       "2         AZ     Arizona   West\n",
       "3         CA  California   West\n",
       "4         CO    Colorado   West"
      ]
     },
     "execution_count": 6,
     "metadata": {},
     "output_type": "execute_result"
    }
   ],
   "source": [
    "# Verify df_state_reg\n",
    "df_state_reg.head()"
   ]
  },
  {
   "cell_type": "code",
   "execution_count": 7,
   "metadata": {
    "colab": {
     "base_uri": "https://localhost:8080/",
     "height": 1000
    },
    "executionInfo": {
     "elapsed": 156,
     "status": "ok",
     "timestamp": 1752635349892,
     "user": {
      "displayName": "Premsainath Reddy",
      "userId": "07841810758834407388"
     },
     "user_tz": -330
    },
    "id": "THma9UAFlLYD",
    "outputId": "c595fa4d-2516-4def-ce65-59d78e5df802"
   },
   "outputs": [
    {
     "name": "stdout",
     "output_type": "stream",
     "text": [
      "****************************************\n",
      "Null Values Of The df_sales Data frame\n"
     ]
    },
    {
     "data": {
      "text/plain": [
       "OrderNumber                  0\n",
       "OrderDate                    0\n",
       "Customer Name Index          0\n",
       "Channel                      0\n",
       "Currency Code                0\n",
       "Warehouse Code               0\n",
       "Delivery Region Index        0\n",
       "Product Description Index    0\n",
       "Order Quantity               0\n",
       "Unit Price                   0\n",
       "Line Total                   0\n",
       "Total Unit Cost              0\n",
       "dtype: int64"
      ]
     },
     "metadata": {},
     "output_type": "display_data"
    },
    {
     "name": "stdout",
     "output_type": "stream",
     "text": [
      "****************************************\n",
      "****************************************\n",
      "Null Values Of The df_customers Data frame\n"
     ]
    },
    {
     "data": {
      "text/plain": [
       "Customer Index    0\n",
       "Customer Names    0\n",
       "dtype: int64"
      ]
     },
     "metadata": {},
     "output_type": "display_data"
    },
    {
     "name": "stdout",
     "output_type": "stream",
     "text": [
      "****************************************\n",
      "****************************************\n",
      "Null Values Of The df_products Data frame\n"
     ]
    },
    {
     "data": {
      "text/plain": [
       "Index           0\n",
       "Product Name    0\n",
       "dtype: int64"
      ]
     },
     "metadata": {},
     "output_type": "display_data"
    },
    {
     "name": "stdout",
     "output_type": "stream",
     "text": [
      "****************************************\n",
      "****************************************\n",
      "Null Values Of The df_regions Data frame\n"
     ]
    },
    {
     "data": {
      "text/plain": [
       "id               0\n",
       "name             0\n",
       "county           0\n",
       "state_code       0\n",
       "state            0\n",
       "type             0\n",
       "latitude         0\n",
       "longitude        0\n",
       "area_code        0\n",
       "population       0\n",
       "households       0\n",
       "median_income    0\n",
       "land_area        0\n",
       "water_area       0\n",
       "time_zone        0\n",
       "dtype: int64"
      ]
     },
     "metadata": {},
     "output_type": "display_data"
    },
    {
     "name": "stdout",
     "output_type": "stream",
     "text": [
      "****************************************\n",
      "****************************************\n",
      "Null Values Of The df_state_reg Data frame\n"
     ]
    },
    {
     "data": {
      "text/plain": [
       "0\n",
       "State Code    0\n",
       "State         0\n",
       "Region        0\n",
       "dtype: int64"
      ]
     },
     "metadata": {},
     "output_type": "display_data"
    },
    {
     "name": "stdout",
     "output_type": "stream",
     "text": [
      "****************************************\n",
      "****************************************\n",
      "Null Values Of The df_budgets Data frame\n"
     ]
    },
    {
     "data": {
      "text/plain": [
       "Product Name    0\n",
       "2017 Budgets    0\n",
       "dtype: int64"
      ]
     },
     "metadata": {},
     "output_type": "display_data"
    },
    {
     "name": "stdout",
     "output_type": "stream",
     "text": [
      "****************************************\n"
     ]
    }
   ],
   "source": [
    "# Looking for Null❗-Values\n",
    "\n",
    "data_frames={\"df_sales\":df_sales,\"df_customers\":df_customers,\"df_products\":df_products,\"df_regions\":df_regions,\"df_state_reg\":df_state_reg,\"df_budgets\":df_budgets}\n",
    "for name,frame in data_frames.items():\n",
    "  print(\"*\"*40)\n",
    "  print(f\"Null Values Of The {name} Data frame\")\n",
    "  display(frame.isnull().sum())\n",
    "  print(\"*\"*40)\n"
   ]
  },
  {
   "cell_type": "markdown",
   "metadata": {
    "id": "W0rbsg6yuSWw"
   },
   "source": [
    "# **📂🧹✨ Data Cleaning and Wrangling**"
   ]
  },
  {
   "cell_type": "markdown",
   "metadata": {
    "id": "FOw9xngs2lKp"
   },
   "source": [
    "# 🔧 DATA WRANGLING & *MERGING*"
   ]
  },
  {
   "cell_type": "code",
   "execution_count": 8,
   "metadata": {
    "colab": {
     "base_uri": "https://localhost:8080/",
     "height": 429
    },
    "executionInfo": {
     "elapsed": 325,
     "status": "ok",
     "timestamp": 1752635350228,
     "user": {
      "displayName": "Premsainath Reddy",
      "userId": "07841810758834407388"
     },
     "user_tz": -330
    },
    "id": "WEtW_ZKhty75",
    "outputId": "21809ef8-1bec-4598-9f49-593498fd03a8"
   },
   "outputs": [
    {
     "data": {
      "text/html": [
       "<div>\n",
       "<style scoped>\n",
       "    .dataframe tbody tr th:only-of-type {\n",
       "        vertical-align: middle;\n",
       "    }\n",
       "\n",
       "    .dataframe tbody tr th {\n",
       "        vertical-align: top;\n",
       "    }\n",
       "\n",
       "    .dataframe thead th {\n",
       "        text-align: right;\n",
       "    }\n",
       "</style>\n",
       "<table border=\"1\" class=\"dataframe\">\n",
       "  <thead>\n",
       "    <tr style=\"text-align: right;\">\n",
       "      <th></th>\n",
       "      <th>OrderNumber</th>\n",
       "      <th>OrderDate</th>\n",
       "      <th>Customer Name Index</th>\n",
       "      <th>Channel</th>\n",
       "      <th>Currency Code</th>\n",
       "      <th>Warehouse Code</th>\n",
       "      <th>Delivery Region Index</th>\n",
       "      <th>Product Description Index</th>\n",
       "      <th>Order Quantity</th>\n",
       "      <th>Unit Price</th>\n",
       "      <th>...</th>\n",
       "      <th>longitude</th>\n",
       "      <th>area_code</th>\n",
       "      <th>population</th>\n",
       "      <th>households</th>\n",
       "      <th>median_income</th>\n",
       "      <th>land_area</th>\n",
       "      <th>water_area</th>\n",
       "      <th>time_zone</th>\n",
       "      <th>Region</th>\n",
       "      <th>2017 Budgets</th>\n",
       "    </tr>\n",
       "  </thead>\n",
       "  <tbody>\n",
       "    <tr>\n",
       "      <th>0</th>\n",
       "      <td>SO - 000225</td>\n",
       "      <td>2014-01-01</td>\n",
       "      <td>126</td>\n",
       "      <td>Wholesale</td>\n",
       "      <td>USD</td>\n",
       "      <td>AXW291</td>\n",
       "      <td>364</td>\n",
       "      <td>27</td>\n",
       "      <td>6</td>\n",
       "      <td>2499.1</td>\n",
       "      <td>...</td>\n",
       "      <td>-81.09983</td>\n",
       "      <td>912</td>\n",
       "      <td>145674</td>\n",
       "      <td>52798</td>\n",
       "      <td>36466</td>\n",
       "      <td>268318796</td>\n",
       "      <td>13908113</td>\n",
       "      <td>America/New York</td>\n",
       "      <td>South</td>\n",
       "      <td>964940.231</td>\n",
       "    </tr>\n",
       "    <tr>\n",
       "      <th>1</th>\n",
       "      <td>SO - 0003378</td>\n",
       "      <td>2014-01-01</td>\n",
       "      <td>96</td>\n",
       "      <td>Distributor</td>\n",
       "      <td>USD</td>\n",
       "      <td>AXW291</td>\n",
       "      <td>488</td>\n",
       "      <td>20</td>\n",
       "      <td>11</td>\n",
       "      <td>2351.7</td>\n",
       "      <td>...</td>\n",
       "      <td>-86.10665</td>\n",
       "      <td>317</td>\n",
       "      <td>55586</td>\n",
       "      <td>20975</td>\n",
       "      <td>54176</td>\n",
       "      <td>72276415</td>\n",
       "      <td>1883</td>\n",
       "      <td>America/Indiana/Indianapolis</td>\n",
       "      <td>Midwest</td>\n",
       "      <td>2067108.120</td>\n",
       "    </tr>\n",
       "    <tr>\n",
       "      <th>2</th>\n",
       "      <td>SO - 0005126</td>\n",
       "      <td>2014-01-01</td>\n",
       "      <td>8</td>\n",
       "      <td>Wholesale</td>\n",
       "      <td>USD</td>\n",
       "      <td>AXW291</td>\n",
       "      <td>155</td>\n",
       "      <td>26</td>\n",
       "      <td>6</td>\n",
       "      <td>978.2</td>\n",
       "      <td>...</td>\n",
       "      <td>-121.87468</td>\n",
       "      <td>925</td>\n",
       "      <td>79510</td>\n",
       "      <td>26020</td>\n",
       "      <td>124759</td>\n",
       "      <td>62489257</td>\n",
       "      <td>386195</td>\n",
       "      <td>America/Los Angeles</td>\n",
       "      <td>West</td>\n",
       "      <td>5685138.270</td>\n",
       "    </tr>\n",
       "    <tr>\n",
       "      <th>3</th>\n",
       "      <td>SO - 0005614</td>\n",
       "      <td>2014-01-01</td>\n",
       "      <td>42</td>\n",
       "      <td>Export</td>\n",
       "      <td>USD</td>\n",
       "      <td>AXW291</td>\n",
       "      <td>473</td>\n",
       "      <td>7</td>\n",
       "      <td>7</td>\n",
       "      <td>2338.3</td>\n",
       "      <td>...</td>\n",
       "      <td>-86.52639</td>\n",
       "      <td>812</td>\n",
       "      <td>84067</td>\n",
       "      <td>30232</td>\n",
       "      <td>30019</td>\n",
       "      <td>60221613</td>\n",
       "      <td>475857</td>\n",
       "      <td>America/Indiana/Indianapolis</td>\n",
       "      <td>Midwest</td>\n",
       "      <td>889737.555</td>\n",
       "    </tr>\n",
       "    <tr>\n",
       "      <th>4</th>\n",
       "      <td>SO - 0005781</td>\n",
       "      <td>2014-01-01</td>\n",
       "      <td>73</td>\n",
       "      <td>Wholesale</td>\n",
       "      <td>USD</td>\n",
       "      <td>AXW291</td>\n",
       "      <td>256</td>\n",
       "      <td>8</td>\n",
       "      <td>8</td>\n",
       "      <td>2291.4</td>\n",
       "      <td>...</td>\n",
       "      <td>-72.52443</td>\n",
       "      <td>959</td>\n",
       "      <td>58007</td>\n",
       "      <td>24141</td>\n",
       "      <td>63158</td>\n",
       "      <td>70972793</td>\n",
       "      <td>720300</td>\n",
       "      <td>America/New York</td>\n",
       "      <td>Northeast</td>\n",
       "      <td>1085037.329</td>\n",
       "    </tr>\n",
       "  </tbody>\n",
       "</table>\n",
       "<p>5 rows × 30 columns</p>\n",
       "</div>"
      ],
      "text/plain": [
       "    OrderNumber  OrderDate  Customer Name Index      Channel Currency Code  \\\n",
       "0   SO - 000225 2014-01-01                  126    Wholesale           USD   \n",
       "1  SO - 0003378 2014-01-01                   96  Distributor           USD   \n",
       "2  SO - 0005126 2014-01-01                    8    Wholesale           USD   \n",
       "3  SO - 0005614 2014-01-01                   42       Export           USD   \n",
       "4  SO - 0005781 2014-01-01                   73    Wholesale           USD   \n",
       "\n",
       "  Warehouse Code  Delivery Region Index  Product Description Index  \\\n",
       "0         AXW291                    364                         27   \n",
       "1         AXW291                    488                         20   \n",
       "2         AXW291                    155                         26   \n",
       "3         AXW291                    473                          7   \n",
       "4         AXW291                    256                          8   \n",
       "\n",
       "   Order Quantity  Unit Price  ...  longitude  area_code population  \\\n",
       "0               6      2499.1  ...  -81.09983        912     145674   \n",
       "1              11      2351.7  ...  -86.10665        317      55586   \n",
       "2               6       978.2  ... -121.87468        925      79510   \n",
       "3               7      2338.3  ...  -86.52639        812      84067   \n",
       "4               8      2291.4  ...  -72.52443        959      58007   \n",
       "\n",
       "  households median_income  land_area water_area  \\\n",
       "0      52798         36466  268318796   13908113   \n",
       "1      20975         54176   72276415       1883   \n",
       "2      26020        124759   62489257     386195   \n",
       "3      30232         30019   60221613     475857   \n",
       "4      24141         63158   70972793     720300   \n",
       "\n",
       "                      time_zone     Region  2017 Budgets  \n",
       "0              America/New York      South    964940.231  \n",
       "1  America/Indiana/Indianapolis    Midwest   2067108.120  \n",
       "2           America/Los Angeles       West   5685138.270  \n",
       "3  America/Indiana/Indianapolis    Midwest    889737.555  \n",
       "4              America/New York  Northeast   1085037.329  \n",
       "\n",
       "[5 rows x 30 columns]"
      ]
     },
     "execution_count": 8,
     "metadata": {},
     "output_type": "execute_result"
    }
   ],
   "source": [
    "#Merge with Customers\n",
    "df = df_sales.merge(\n",
    "    df_customers,\n",
    "    how='left',\n",
    "    left_on='Customer Name Index',\n",
    "    right_on='Customer Index'\n",
    ")\n",
    "\n",
    "#Merge with Products\n",
    "df = df.merge(\n",
    "    df_products,\n",
    "    how='left',\n",
    "    left_on='Product Description Index',\n",
    "    right_on='Index'\n",
    ")\n",
    "\n",
    "#Merge with Regions\n",
    "df = df.merge(\n",
    "    df_regions,\n",
    "    how='left',\n",
    "    left_on='Delivery Region Index',\n",
    "    right_on='id'\n",
    ")\n",
    "\n",
    "#Merge with State Regions\n",
    "df = df.merge(\n",
    "    df_state_reg[[\"State Code\",\"Region\"]],\n",
    "    how='left',\n",
    "    left_on='state_code',\n",
    "    right_on='State Code'\n",
    ")\n",
    "\n",
    "#Merge with Budgets\n",
    "df = df.merge(\n",
    "    df_budgets,\n",
    "    how='left',\n",
    "    on='Product Name'\n",
    ")\n",
    "\n",
    "#Clean up redundant columns\n",
    "cols_to_drop = [\n",
    "    'Customer Index', 'Index', 'id', 'State Code'\n",
    "]\n",
    "df = df.drop(columns=cols_to_drop, errors='ignore')\n",
    "\n",
    "df.head()"
   ]
  },
  {
   "cell_type": "code",
   "execution_count": 9,
   "metadata": {
    "colab": {
     "base_uri": "https://localhost:8080/"
    },
    "executionInfo": {
     "elapsed": 158,
     "status": "ok",
     "timestamp": 1752635350230,
     "user": {
      "displayName": "Premsainath Reddy",
      "userId": "07841810758834407388"
     },
     "user_tz": -330
    },
    "id": "8K9-dZpplLaz",
    "outputId": "c3de9c5e-fc10-458d-c0e1-bd04280778e2"
   },
   "outputs": [
    {
     "data": {
      "text/plain": [
       "array(['ordernumber', 'orderdate', 'customer_name_index', 'channel',\n",
       "       'currency_code', 'warehouse_code', 'delivery_region_index',\n",
       "       'product_description_index', 'order_quantity', 'unit_price',\n",
       "       'line_total', 'total_unit_cost', 'customer_names', 'product_name',\n",
       "       'name', 'county', 'state_code', 'state', 'type', 'latitude',\n",
       "       'longitude', 'area_code', 'population', 'households',\n",
       "       'median_income', 'land_area', 'water_area', 'time_zone', 'region',\n",
       "       '2017_budgets'], dtype=object)"
      ]
     },
     "execution_count": 9,
     "metadata": {},
     "output_type": "execute_result"
    }
   ],
   "source": [
    "# Convert all column names to lowercase and striping and replacing spaces for  easier access\n",
    "columns = [col.strip().replace(\" \", \"_\").lower() for col in df.columns]\n",
    "df.columns=columns\n",
    "df.columns.values"
   ]
  },
  {
   "cell_type": "code",
   "execution_count": 10,
   "metadata": {
    "colab": {
     "base_uri": "https://localhost:8080/",
     "height": 243
    },
    "executionInfo": {
     "elapsed": 39,
     "status": "ok",
     "timestamp": 1752635350248,
     "user": {
      "displayName": "Premsainath Reddy",
      "userId": "07841810758834407388"
     },
     "user_tz": -330
    },
    "id": "70MMy8-B6f_S",
    "outputId": "8deaf5f4-76c0-4e44-efa1-42577a79432f"
   },
   "outputs": [
    {
     "data": {
      "text/html": [
       "<div>\n",
       "<style scoped>\n",
       "    .dataframe tbody tr th:only-of-type {\n",
       "        vertical-align: middle;\n",
       "    }\n",
       "\n",
       "    .dataframe tbody tr th {\n",
       "        vertical-align: top;\n",
       "    }\n",
       "\n",
       "    .dataframe thead th {\n",
       "        text-align: right;\n",
       "    }\n",
       "</style>\n",
       "<table border=\"1\" class=\"dataframe\">\n",
       "  <thead>\n",
       "    <tr style=\"text-align: right;\">\n",
       "      <th></th>\n",
       "      <th>order_number</th>\n",
       "      <th>order_date</th>\n",
       "      <th>customer_names</th>\n",
       "      <th>channel</th>\n",
       "      <th>product_name</th>\n",
       "      <th>quantity</th>\n",
       "      <th>unit_price</th>\n",
       "      <th>revenue</th>\n",
       "      <th>cost</th>\n",
       "      <th>state_code</th>\n",
       "      <th>state_name</th>\n",
       "      <th>us_region</th>\n",
       "      <th>latitude</th>\n",
       "      <th>longitude</th>\n",
       "      <th>budget</th>\n",
       "    </tr>\n",
       "  </thead>\n",
       "  <tbody>\n",
       "    <tr>\n",
       "      <th>0</th>\n",
       "      <td>SO - 000225</td>\n",
       "      <td>2014-01-01</td>\n",
       "      <td>Rhynoodle Ltd</td>\n",
       "      <td>Wholesale</td>\n",
       "      <td>Product 27</td>\n",
       "      <td>6</td>\n",
       "      <td>2499.1</td>\n",
       "      <td>14994.6</td>\n",
       "      <td>1824.343</td>\n",
       "      <td>GA</td>\n",
       "      <td>Georgia</td>\n",
       "      <td>South</td>\n",
       "      <td>32.08354</td>\n",
       "      <td>-81.09983</td>\n",
       "      <td>964940.231</td>\n",
       "    </tr>\n",
       "    <tr>\n",
       "      <th>1</th>\n",
       "      <td>SO - 0003378</td>\n",
       "      <td>2014-01-01</td>\n",
       "      <td>Thoughtmix Ltd</td>\n",
       "      <td>Distributor</td>\n",
       "      <td>Product 20</td>\n",
       "      <td>11</td>\n",
       "      <td>2351.7</td>\n",
       "      <td>25868.7</td>\n",
       "      <td>1269.918</td>\n",
       "      <td>IN</td>\n",
       "      <td>Indiana</td>\n",
       "      <td>Midwest</td>\n",
       "      <td>39.61366</td>\n",
       "      <td>-86.10665</td>\n",
       "      <td>2067108.120</td>\n",
       "    </tr>\n",
       "    <tr>\n",
       "      <th>2</th>\n",
       "      <td>SO - 0005126</td>\n",
       "      <td>2014-01-01</td>\n",
       "      <td>Amerisourc Corp</td>\n",
       "      <td>Wholesale</td>\n",
       "      <td>Product 26</td>\n",
       "      <td>6</td>\n",
       "      <td>978.2</td>\n",
       "      <td>5869.2</td>\n",
       "      <td>684.740</td>\n",
       "      <td>CA</td>\n",
       "      <td>California</td>\n",
       "      <td>West</td>\n",
       "      <td>37.66243</td>\n",
       "      <td>-121.87468</td>\n",
       "      <td>5685138.270</td>\n",
       "    </tr>\n",
       "    <tr>\n",
       "      <th>3</th>\n",
       "      <td>SO - 0005614</td>\n",
       "      <td>2014-01-01</td>\n",
       "      <td>Colgate-Pa Group</td>\n",
       "      <td>Export</td>\n",
       "      <td>Product 7</td>\n",
       "      <td>7</td>\n",
       "      <td>2338.3</td>\n",
       "      <td>16368.1</td>\n",
       "      <td>1028.852</td>\n",
       "      <td>IN</td>\n",
       "      <td>Indiana</td>\n",
       "      <td>Midwest</td>\n",
       "      <td>39.16533</td>\n",
       "      <td>-86.52639</td>\n",
       "      <td>889737.555</td>\n",
       "    </tr>\n",
       "    <tr>\n",
       "      <th>4</th>\n",
       "      <td>SO - 0005781</td>\n",
       "      <td>2014-01-01</td>\n",
       "      <td>Deseret Group</td>\n",
       "      <td>Wholesale</td>\n",
       "      <td>Product 8</td>\n",
       "      <td>8</td>\n",
       "      <td>2291.4</td>\n",
       "      <td>18331.2</td>\n",
       "      <td>1260.270</td>\n",
       "      <td>CT</td>\n",
       "      <td>Connecticut</td>\n",
       "      <td>Northeast</td>\n",
       "      <td>41.77524</td>\n",
       "      <td>-72.52443</td>\n",
       "      <td>1085037.329</td>\n",
       "    </tr>\n",
       "  </tbody>\n",
       "</table>\n",
       "</div>"
      ],
      "text/plain": [
       "   order_number order_date    customer_names      channel product_name  \\\n",
       "0   SO - 000225 2014-01-01     Rhynoodle Ltd    Wholesale   Product 27   \n",
       "1  SO - 0003378 2014-01-01    Thoughtmix Ltd  Distributor   Product 20   \n",
       "2  SO - 0005126 2014-01-01   Amerisourc Corp    Wholesale   Product 26   \n",
       "3  SO - 0005614 2014-01-01  Colgate-Pa Group       Export    Product 7   \n",
       "4  SO - 0005781 2014-01-01     Deseret Group    Wholesale    Product 8   \n",
       "\n",
       "   quantity  unit_price  revenue      cost state_code   state_name  us_region  \\\n",
       "0         6      2499.1  14994.6  1824.343         GA      Georgia      South   \n",
       "1        11      2351.7  25868.7  1269.918         IN      Indiana    Midwest   \n",
       "2         6       978.2   5869.2   684.740         CA   California       West   \n",
       "3         7      2338.3  16368.1  1028.852         IN      Indiana    Midwest   \n",
       "4         8      2291.4  18331.2  1260.270         CT  Connecticut  Northeast   \n",
       "\n",
       "   latitude  longitude       budget  \n",
       "0  32.08354  -81.09983   964940.231  \n",
       "1  39.61366  -86.10665  2067108.120  \n",
       "2  37.66243 -121.87468  5685138.270  \n",
       "3  39.16533  -86.52639   889737.555  \n",
       "4  41.77524  -72.52443  1085037.329  "
      ]
     },
     "execution_count": 10,
     "metadata": {},
     "output_type": "execute_result"
    }
   ],
   "source": [
    "# DROP UNNECESSARY COLUMNS & RENAME FOR CLARITY (with Region)\n",
    "\n",
    "# columns to keep\n",
    "cols_to_keep = [\n",
    "    'ordernumber',\n",
    "    'orderdate',\n",
    "    'customer_names',\n",
    "    'channel',\n",
    "    'product_name',\n",
    "    'order_quantity',\n",
    "    'unit_price',\n",
    "    'line_total',\n",
    "    'total_unit_cost',\n",
    "    'state_code',\n",
    "    'state',\n",
    "    'region',\n",
    "    'latitude',\n",
    "    'longitude',\n",
    "    '2017_budgets'\n",
    "]\n",
    "\n",
    "df=df[cols_to_keep]\n",
    "\n",
    "# Renaming the columns\n",
    "\n",
    "df = df.rename(columns={\n",
    "    'ordernumber':'order_number',\n",
    "    'orderdate': 'order_date',\n",
    "    'order_quantity': 'quantity',\n",
    "    'line_total': 'revenue',\n",
    "    'total_unit_cost': 'cost',\n",
    "    'state': 'state_name',\n",
    "    'region': 'us_region',\n",
    "    '2017_budgets': 'budget'\n",
    "})\n",
    "\n",
    "df.head()"
   ]
  },
  {
   "cell_type": "code",
   "execution_count": 11,
   "metadata": {
    "colab": {
     "base_uri": "https://localhost:8080/",
     "height": 363
    },
    "executionInfo": {
     "elapsed": 88,
     "status": "ok",
     "timestamp": 1752635350346,
     "user": {
      "displayName": "Premsainath Reddy",
      "userId": "07841810758834407388"
     },
     "user_tz": -330
    },
    "id": "70QqwfHoEz-j",
    "outputId": "393725dd-7b13-4428-8f60-4aee3db05868"
   },
   "outputs": [
    {
     "data": {
      "text/html": [
       "<div>\n",
       "<style scoped>\n",
       "    .dataframe tbody tr th:only-of-type {\n",
       "        vertical-align: middle;\n",
       "    }\n",
       "\n",
       "    .dataframe tbody tr th {\n",
       "        vertical-align: top;\n",
       "    }\n",
       "\n",
       "    .dataframe thead th {\n",
       "        text-align: right;\n",
       "    }\n",
       "</style>\n",
       "<table border=\"1\" class=\"dataframe\">\n",
       "  <thead>\n",
       "    <tr style=\"text-align: right;\">\n",
       "      <th></th>\n",
       "      <th>order_date</th>\n",
       "      <th>product_name</th>\n",
       "      <th>revenue</th>\n",
       "      <th>budget</th>\n",
       "    </tr>\n",
       "  </thead>\n",
       "  <tbody>\n",
       "    <tr>\n",
       "      <th>0</th>\n",
       "      <td>2014-01-01</td>\n",
       "      <td>Product 27</td>\n",
       "      <td>14994.6</td>\n",
       "      <td>NaN</td>\n",
       "    </tr>\n",
       "    <tr>\n",
       "      <th>1</th>\n",
       "      <td>2014-01-01</td>\n",
       "      <td>Product 20</td>\n",
       "      <td>25868.7</td>\n",
       "      <td>NaN</td>\n",
       "    </tr>\n",
       "    <tr>\n",
       "      <th>2</th>\n",
       "      <td>2014-01-01</td>\n",
       "      <td>Product 26</td>\n",
       "      <td>5869.2</td>\n",
       "      <td>NaN</td>\n",
       "    </tr>\n",
       "    <tr>\n",
       "      <th>3</th>\n",
       "      <td>2014-01-01</td>\n",
       "      <td>Product 7</td>\n",
       "      <td>16368.1</td>\n",
       "      <td>NaN</td>\n",
       "    </tr>\n",
       "    <tr>\n",
       "      <th>4</th>\n",
       "      <td>2014-01-01</td>\n",
       "      <td>Product 8</td>\n",
       "      <td>18331.2</td>\n",
       "      <td>NaN</td>\n",
       "    </tr>\n",
       "    <tr>\n",
       "      <th>5</th>\n",
       "      <td>2014-01-01</td>\n",
       "      <td>Product 23</td>\n",
       "      <td>57412.3</td>\n",
       "      <td>NaN</td>\n",
       "    </tr>\n",
       "    <tr>\n",
       "      <th>6</th>\n",
       "      <td>2014-01-01</td>\n",
       "      <td>Product 1</td>\n",
       "      <td>20120.1</td>\n",
       "      <td>NaN</td>\n",
       "    </tr>\n",
       "    <tr>\n",
       "      <th>7</th>\n",
       "      <td>2014-01-01</td>\n",
       "      <td>Product 25</td>\n",
       "      <td>10452.0</td>\n",
       "      <td>NaN</td>\n",
       "    </tr>\n",
       "    <tr>\n",
       "      <th>8</th>\n",
       "      <td>2014-01-01</td>\n",
       "      <td>Product 13</td>\n",
       "      <td>19262.5</td>\n",
       "      <td>NaN</td>\n",
       "    </tr>\n",
       "    <tr>\n",
       "      <th>9</th>\n",
       "      <td>2014-01-01</td>\n",
       "      <td>Product 14</td>\n",
       "      <td>34974.0</td>\n",
       "      <td>NaN</td>\n",
       "    </tr>\n",
       "  </tbody>\n",
       "</table>\n",
       "</div>"
      ],
      "text/plain": [
       "  order_date product_name  revenue  budget\n",
       "0 2014-01-01   Product 27  14994.6     NaN\n",
       "1 2014-01-01   Product 20  25868.7     NaN\n",
       "2 2014-01-01   Product 26   5869.2     NaN\n",
       "3 2014-01-01    Product 7  16368.1     NaN\n",
       "4 2014-01-01    Product 8  18331.2     NaN\n",
       "5 2014-01-01   Product 23  57412.3     NaN\n",
       "6 2014-01-01    Product 1  20120.1     NaN\n",
       "7 2014-01-01   Product 25  10452.0     NaN\n",
       "8 2014-01-01   Product 13  19262.5     NaN\n",
       "9 2014-01-01   Product 14  34974.0     NaN"
      ]
     },
     "execution_count": 11,
     "metadata": {},
     "output_type": "execute_result"
    }
   ],
   "source": [
    "# Blank out budgets for non-2017 orders\n",
    "df.loc[df['order_date'].dt.year != 2017, 'budget'] = pd.NA\n",
    "\n",
    "# Inspect\n",
    "df[['order_date','product_name','revenue','budget']].head(10)"
   ]
  },
  {
   "cell_type": "code",
   "execution_count": 12,
   "metadata": {
    "colab": {
     "base_uri": "https://localhost:8080/"
    },
    "executionInfo": {
     "elapsed": 40,
     "status": "ok",
     "timestamp": 1752635350403,
     "user": {
      "displayName": "Premsainath Reddy",
      "userId": "07841810758834407388"
     },
     "user_tz": -330
    },
    "id": "99KG2dEJ6gCX",
    "outputId": "0c66c20b-d81a-4c46-a5b5-39942ffe2bac"
   },
   "outputs": [
    {
     "name": "stdout",
     "output_type": "stream",
     "text": [
      "<class 'pandas.core.frame.DataFrame'>\n",
      "RangeIndex: 64104 entries, 0 to 64103\n",
      "Data columns (total 15 columns):\n",
      " #   Column          Non-Null Count  Dtype         \n",
      "---  ------          --------------  -----         \n",
      " 0   order_number    64104 non-null  object        \n",
      " 1   order_date      64104 non-null  datetime64[ns]\n",
      " 2   customer_names  64104 non-null  object        \n",
      " 3   channel         64104 non-null  object        \n",
      " 4   product_name    64104 non-null  object        \n",
      " 5   quantity        64104 non-null  int64         \n",
      " 6   unit_price      64104 non-null  float64       \n",
      " 7   revenue         64104 non-null  float64       \n",
      " 8   cost            64104 non-null  float64       \n",
      " 9   state_code      64104 non-null  object        \n",
      " 10  state_name      64104 non-null  object        \n",
      " 11  us_region       64104 non-null  object        \n",
      " 12  latitude        64104 non-null  float64       \n",
      " 13  longitude       64104 non-null  float64       \n",
      " 14  budget          15263 non-null  float64       \n",
      "dtypes: datetime64[ns](1), float64(6), int64(1), object(7)\n",
      "memory usage: 7.3+ MB\n"
     ]
    }
   ],
   "source": [
    "df.info()"
   ]
  },
  {
   "cell_type": "code",
   "execution_count": 13,
   "metadata": {
    "colab": {
     "base_uri": "https://localhost:8080/",
     "height": 554
    },
    "executionInfo": {
     "elapsed": 97,
     "status": "ok",
     "timestamp": 1752635350505,
     "user": {
      "displayName": "Premsainath Reddy",
      "userId": "07841810758834407388"
     },
     "user_tz": -330
    },
    "id": "BFgJPkfu6gFa",
    "outputId": "433db358-15c2-4d0e-84a3-6f40c01b6397"
   },
   "outputs": [
    {
     "data": {
      "text/plain": [
       "order_number          0\n",
       "order_date            0\n",
       "customer_names        0\n",
       "channel               0\n",
       "product_name          0\n",
       "quantity              0\n",
       "unit_price            0\n",
       "revenue               0\n",
       "cost                  0\n",
       "state_code            0\n",
       "state_name            0\n",
       "us_region             0\n",
       "latitude              0\n",
       "longitude             0\n",
       "budget            48841\n",
       "dtype: int64"
      ]
     },
     "execution_count": 13,
     "metadata": {},
     "output_type": "execute_result"
    }
   ],
   "source": [
    "# Check for missing values in each column of the dataset\n",
    "df.isnull().sum()"
   ]
  },
  {
   "cell_type": "markdown",
   "metadata": {
    "id": "i7-IKx0inOxy"
   },
   "source": [
    "# **⚙️ Feature Engineering**"
   ]
  },
  {
   "cell_type": "code",
   "execution_count": 14,
   "metadata": {
    "executionInfo": {
     "elapsed": 12,
     "status": "ok",
     "timestamp": 1752635350523,
     "user": {
      "displayName": "Premsainath Reddy",
      "userId": "07841810758834407388"
     },
     "user_tz": -330
    },
    "id": "94_cn8KH6gIN"
   },
   "outputs": [],
   "source": [
    "# Calculating Total cost for Each Line\n",
    "df['total_cost'] = df['quantity']*df['cost']\n",
    "# Calculating Profit by using revenue and total cost\n",
    "df['profit'] = df['revenue']-df['total_cost']\n",
    "# Calculating Profit Margin as a Percentage\n",
    "df['profit_margin_pct'] = (df['profit']/df['revenue'])*100\n",
    "# Extracting full month name from order date labeling\n",
    "df['order_month_name']=df['order_date'].dt.month_name()\n",
    "# Extracting month number from oredr date labeling\n",
    "df['order_month_num']=df['order_date'].dt.month\n",
    "# Convert order_date to monthly period (e.g., 2022-01, 2022-02)\n",
    "df['order_month'] = df['order_date'].dt.to_period('M')"
   ]
  },
  {
   "cell_type": "code",
   "execution_count": 15,
   "metadata": {
    "colab": {
     "base_uri": "https://localhost:8080/",
     "height": 273
    },
    "executionInfo": {
     "elapsed": 22,
     "status": "ok",
     "timestamp": 1752635350564,
     "user": {
      "displayName": "Premsainath Reddy",
      "userId": "07841810758834407388"
     },
     "user_tz": -330
    },
    "id": "CFz-Go3a6gLE",
    "outputId": "848611de-81ba-44e9-ea5f-de6055486fdc"
   },
   "outputs": [
    {
     "data": {
      "text/html": [
       "<div>\n",
       "<style scoped>\n",
       "    .dataframe tbody tr th:only-of-type {\n",
       "        vertical-align: middle;\n",
       "    }\n",
       "\n",
       "    .dataframe tbody tr th {\n",
       "        vertical-align: top;\n",
       "    }\n",
       "\n",
       "    .dataframe thead th {\n",
       "        text-align: right;\n",
       "    }\n",
       "</style>\n",
       "<table border=\"1\" class=\"dataframe\">\n",
       "  <thead>\n",
       "    <tr style=\"text-align: right;\">\n",
       "      <th></th>\n",
       "      <th>order_number</th>\n",
       "      <th>order_date</th>\n",
       "      <th>customer_names</th>\n",
       "      <th>channel</th>\n",
       "      <th>product_name</th>\n",
       "      <th>quantity</th>\n",
       "      <th>unit_price</th>\n",
       "      <th>revenue</th>\n",
       "      <th>cost</th>\n",
       "      <th>state_code</th>\n",
       "      <th>...</th>\n",
       "      <th>us_region</th>\n",
       "      <th>latitude</th>\n",
       "      <th>longitude</th>\n",
       "      <th>budget</th>\n",
       "      <th>total_cost</th>\n",
       "      <th>profit</th>\n",
       "      <th>profit_margin_pct</th>\n",
       "      <th>order_month_name</th>\n",
       "      <th>order_month_num</th>\n",
       "      <th>order_month</th>\n",
       "    </tr>\n",
       "  </thead>\n",
       "  <tbody>\n",
       "    <tr>\n",
       "      <th>0</th>\n",
       "      <td>SO - 000225</td>\n",
       "      <td>2014-01-01</td>\n",
       "      <td>Rhynoodle Ltd</td>\n",
       "      <td>Wholesale</td>\n",
       "      <td>Product 27</td>\n",
       "      <td>6</td>\n",
       "      <td>2499.1</td>\n",
       "      <td>14994.6</td>\n",
       "      <td>1824.343</td>\n",
       "      <td>GA</td>\n",
       "      <td>...</td>\n",
       "      <td>South</td>\n",
       "      <td>32.08354</td>\n",
       "      <td>-81.09983</td>\n",
       "      <td>NaN</td>\n",
       "      <td>10946.058</td>\n",
       "      <td>4048.542</td>\n",
       "      <td>27.0</td>\n",
       "      <td>January</td>\n",
       "      <td>1</td>\n",
       "      <td>2014-01</td>\n",
       "    </tr>\n",
       "    <tr>\n",
       "      <th>1</th>\n",
       "      <td>SO - 0003378</td>\n",
       "      <td>2014-01-01</td>\n",
       "      <td>Thoughtmix Ltd</td>\n",
       "      <td>Distributor</td>\n",
       "      <td>Product 20</td>\n",
       "      <td>11</td>\n",
       "      <td>2351.7</td>\n",
       "      <td>25868.7</td>\n",
       "      <td>1269.918</td>\n",
       "      <td>IN</td>\n",
       "      <td>...</td>\n",
       "      <td>Midwest</td>\n",
       "      <td>39.61366</td>\n",
       "      <td>-86.10665</td>\n",
       "      <td>NaN</td>\n",
       "      <td>13969.098</td>\n",
       "      <td>11899.602</td>\n",
       "      <td>46.0</td>\n",
       "      <td>January</td>\n",
       "      <td>1</td>\n",
       "      <td>2014-01</td>\n",
       "    </tr>\n",
       "    <tr>\n",
       "      <th>2</th>\n",
       "      <td>SO - 0005126</td>\n",
       "      <td>2014-01-01</td>\n",
       "      <td>Amerisourc Corp</td>\n",
       "      <td>Wholesale</td>\n",
       "      <td>Product 26</td>\n",
       "      <td>6</td>\n",
       "      <td>978.2</td>\n",
       "      <td>5869.2</td>\n",
       "      <td>684.740</td>\n",
       "      <td>CA</td>\n",
       "      <td>...</td>\n",
       "      <td>West</td>\n",
       "      <td>37.66243</td>\n",
       "      <td>-121.87468</td>\n",
       "      <td>NaN</td>\n",
       "      <td>4108.440</td>\n",
       "      <td>1760.760</td>\n",
       "      <td>30.0</td>\n",
       "      <td>January</td>\n",
       "      <td>1</td>\n",
       "      <td>2014-01</td>\n",
       "    </tr>\n",
       "    <tr>\n",
       "      <th>3</th>\n",
       "      <td>SO - 0005614</td>\n",
       "      <td>2014-01-01</td>\n",
       "      <td>Colgate-Pa Group</td>\n",
       "      <td>Export</td>\n",
       "      <td>Product 7</td>\n",
       "      <td>7</td>\n",
       "      <td>2338.3</td>\n",
       "      <td>16368.1</td>\n",
       "      <td>1028.852</td>\n",
       "      <td>IN</td>\n",
       "      <td>...</td>\n",
       "      <td>Midwest</td>\n",
       "      <td>39.16533</td>\n",
       "      <td>-86.52639</td>\n",
       "      <td>NaN</td>\n",
       "      <td>7201.964</td>\n",
       "      <td>9166.136</td>\n",
       "      <td>56.0</td>\n",
       "      <td>January</td>\n",
       "      <td>1</td>\n",
       "      <td>2014-01</td>\n",
       "    </tr>\n",
       "    <tr>\n",
       "      <th>4</th>\n",
       "      <td>SO - 0005781</td>\n",
       "      <td>2014-01-01</td>\n",
       "      <td>Deseret Group</td>\n",
       "      <td>Wholesale</td>\n",
       "      <td>Product 8</td>\n",
       "      <td>8</td>\n",
       "      <td>2291.4</td>\n",
       "      <td>18331.2</td>\n",
       "      <td>1260.270</td>\n",
       "      <td>CT</td>\n",
       "      <td>...</td>\n",
       "      <td>Northeast</td>\n",
       "      <td>41.77524</td>\n",
       "      <td>-72.52443</td>\n",
       "      <td>NaN</td>\n",
       "      <td>10082.160</td>\n",
       "      <td>8249.040</td>\n",
       "      <td>45.0</td>\n",
       "      <td>January</td>\n",
       "      <td>1</td>\n",
       "      <td>2014-01</td>\n",
       "    </tr>\n",
       "  </tbody>\n",
       "</table>\n",
       "<p>5 rows × 21 columns</p>\n",
       "</div>"
      ],
      "text/plain": [
       "   order_number order_date    customer_names      channel product_name  \\\n",
       "0   SO - 000225 2014-01-01     Rhynoodle Ltd    Wholesale   Product 27   \n",
       "1  SO - 0003378 2014-01-01    Thoughtmix Ltd  Distributor   Product 20   \n",
       "2  SO - 0005126 2014-01-01   Amerisourc Corp    Wholesale   Product 26   \n",
       "3  SO - 0005614 2014-01-01  Colgate-Pa Group       Export    Product 7   \n",
       "4  SO - 0005781 2014-01-01     Deseret Group    Wholesale    Product 8   \n",
       "\n",
       "   quantity  unit_price  revenue      cost state_code  ...  us_region  \\\n",
       "0         6      2499.1  14994.6  1824.343         GA  ...      South   \n",
       "1        11      2351.7  25868.7  1269.918         IN  ...    Midwest   \n",
       "2         6       978.2   5869.2   684.740         CA  ...       West   \n",
       "3         7      2338.3  16368.1  1028.852         IN  ...    Midwest   \n",
       "4         8      2291.4  18331.2  1260.270         CT  ...  Northeast   \n",
       "\n",
       "   latitude  longitude  budget  total_cost     profit  profit_margin_pct  \\\n",
       "0  32.08354  -81.09983     NaN   10946.058   4048.542               27.0   \n",
       "1  39.61366  -86.10665     NaN   13969.098  11899.602               46.0   \n",
       "2  37.66243 -121.87468     NaN    4108.440   1760.760               30.0   \n",
       "3  39.16533  -86.52639     NaN    7201.964   9166.136               56.0   \n",
       "4  41.77524  -72.52443     NaN   10082.160   8249.040               45.0   \n",
       "\n",
       "   order_month_name order_month_num  order_month  \n",
       "0           January               1      2014-01  \n",
       "1           January               1      2014-01  \n",
       "2           January               1      2014-01  \n",
       "3           January               1      2014-01  \n",
       "4           January               1      2014-01  \n",
       "\n",
       "[5 rows x 21 columns]"
      ]
     },
     "execution_count": 15,
     "metadata": {},
     "output_type": "execute_result"
    }
   ],
   "source": [
    "df.head()"
   ]
  },
  {
   "cell_type": "markdown",
   "metadata": {
    "id": "PRwkLVY9pLav"
   },
   "source": [
    "### **📊 Exploratory Data Analysis**"
   ]
  },
  {
   "cell_type": "markdown",
   "metadata": {
    "id": "vttgOPKd4ZyE"
   },
   "source": [
    "# **1.📈 Monthly Sales Trend Analysis**\n",
    "🔹 Objective:\n",
    "\n",
    "To analyze monthly revenue patterns over time and identify trends, seasonality, or sales spikes.\n",
    "\n",
    "🔹 Chart Type:\n",
    "\n",
    "Line Chart with circle markers for clear visibility of individual monthly revenue points.\n",
    "\n",
    "🔹 Exploratory Data Analysis (EDA) Focus:\n",
    "\n",
    "**🕒** Temporal Analysis – Evaluating how sales evolve over time.\n",
    "\n",
    "🔹 Chart Features:\n",
    "  *  Time-based x-axis (monthly)\n",
    "  *  Smoothed navy-blue line connecting revenue data\n",
    "  *  Circular markers to emphasize data points\n",
    "  * Y-axis formatted in millions for readability\n"
   ]
  },
  {
   "cell_type": "code",
   "execution_count": 16,
   "metadata": {
    "colab": {
     "base_uri": "https://localhost:8080/",
     "height": 293
    },
    "executionInfo": {
     "elapsed": 168,
     "status": "ok",
     "timestamp": 1752635350825,
     "user": {
      "displayName": "Premsainath Reddy",
      "userId": "07841810758834407388"
     },
     "user_tz": -330
    },
    "id": "ArKS78NJ6gNr",
    "outputId": "0e456700-8c31-4fd4-886c-af5e1b03d5a0"
   },
   "outputs": [
    {
     "data": {
      "image/png": "[encoded data removed]",
      "text/plain": [
       "<Figure size 1500x400 with 1 Axes>"
      ]
     },
     "metadata": {},
     "output_type": "display_data"
    }
   ],
   "source": [
    "# Calculate total revenue for each month\n",
    "monthly_sales = df.groupby('order_month')['revenue'].sum()\n",
    "\n",
    "# Set figure size\n",
    "plt.figure(figsize=(15,4))\n",
    "\n",
    "# Plot the monthly sales trend with circle markers and navy line\n",
    "monthly_sales.plot(marker='o', color='navy')\n",
    "\n",
    "# Scale y-axis values to millions for readability\n",
    "from matplotlib.ticker import FuncFormatter\n",
    "formatter = FuncFormatter(lambda x, pos: f'{x/1e6:.1f}M')\n",
    "plt.gca().yaxis.set_major_formatter(formatter)\n",
    "\n",
    "# Add title and axis labels\n",
    "plt.title('Monthly Sales Trend')\n",
    "plt.xlabel('')\n",
    "plt.ylabel('Total Revenue (Millions)')\n",
    "\n",
    "# Rotate x-axis labels\n",
    "plt.xticks(rotation=45)\n",
    "\n",
    "plt.tight_layout()\n",
    "plt.show()"
   ]
  },
  {
   "cell_type": "markdown",
   "metadata": {
    "id": "3P1FbGiV6MF3"
   },
   "source": [
    "# **📊 Insights**\n",
    "\n",
    "*    **📈** Sales mostly range between 💲24M and 💲26M throughout the year.\n",
    "\n",
    "*    **🌞** Peaks are observed in May–June, showing strong seasonal demand.\n",
    "\n",
    "*   **❄️** Lows appear in January, likely due to post-holiday slowdown.\n",
    "\n",
    "*   **⚠️** A sharp drop in early 2017 stands out and may need attention."
   ]
  },
  {
   "cell_type": "markdown",
   "metadata": {
    "id": "KH4XARkEFjqa"
   },
   "source": [
    "# **2.📆 Monthly Sales Trend (All Years Combined)**\n",
    "🔹 Goal:\n",
    "\n",
    "**📊** Highlight seasonal sales patterns by aggregating revenue for each calendar month across all years.\n",
    "\n",
    "🔹 Chart Type:\n",
    "\n",
    "**📈** Line chart with circular markers.\n",
    "\n",
    "🔹 EDA Focus:\n",
    "\n",
    "**🕒** Temporal Analysis — understanding month-wise performance trends over multiple years.\n",
    "\n",
    "🔹 Structure:\n",
    "\n",
    "*    Months ordered from January to December\n",
    "\n",
    "*    Line plot with markers to emphasize monthly averages"
   ]
  },
  {
   "cell_type": "code",
   "execution_count": 17,
   "metadata": {
    "colab": {
     "base_uri": "https://localhost:8080/",
     "height": 336
    },
    "executionInfo": {
     "elapsed": 470,
     "status": "ok",
     "timestamp": 1752635351303,
     "user": {
      "displayName": "Premsainath Reddy",
      "userId": "07841810758834407388"
     },
     "user_tz": -330
    },
    "id": "iCDfZVio8BuT",
    "outputId": "7a390019-eebf-49ea-f362-a6cd5192e669"
   },
   "outputs": [
    {
     "data": {
      "image/png": "[encoded data removed]",
      "text/plain": [
       "<Figure size 1300x400 with 1 Axes>"
      ]
     },
     "metadata": {},
     "output_type": "display_data"
    }
   ],
   "source": [
    "# Filter out any 2018 orders , Because in 2018 there is only jan,feb so while aggregating revenue it getting as outlier\n",
    "df_new = df[df['order_date'].dt.year != 2018]\n",
    "\n",
    "# Group by month number and month name, sum revenue, then sort by month number , here we use month number because plot will sort according to lexicographical so we use numbers\n",
    "monthly_sales = (\n",
    "    df_new\n",
    "    .groupby(['order_month_num', 'order_month_name'])['revenue']\n",
    "    .sum()\n",
    "    .sort_index()\n",
    ")\n",
    "\n",
    "# Plot setup\n",
    "from matplotlib.ticker import FuncFormatter\n",
    "\n",
    "plt.figure(figsize=(13, 4))\n",
    "plt.plot(\n",
    "    monthly_sales.index.get_level_values(1),  # X-axis: month names\n",
    "    monthly_sales.values,                     # Y-axis: total revenue\n",
    "    marker='o',                                # circle markers\n",
    "    color='navy'                               # line color\n",
    ")\n",
    "\n",
    "# Scale y-axis values to millions for readability\n",
    "formatter = FuncFormatter(lambda x, pos: f'{x/1e6:.1f}M')\n",
    "plt.gca().yaxis.set_major_formatter(formatter)\n",
    "\n",
    "# Adding title and axis labels\n",
    "plt.title('Overall Monthly Sales Trend (Excluding 2018)')\n",
    "plt.xlabel('')\n",
    "plt.ylabel('Total Revenue (Millions)')\n",
    "\n",
    "# Rotate x-axis labels for readability\n",
    "plt.xticks(rotation=45)\n",
    "\n",
    "# Adjust layout to prevent clipping\n",
    "plt.tight_layout()\n",
    "\n",
    "# Display the plot\n",
    "plt.show()\n"
   ]
  },
  {
   "cell_type": "markdown",
   "metadata": {
    "id": "NMlDDeqyPKFD"
   },
   "source": [
    "# **📊 Insights**\n",
    "\n",
    "*  **🎉** January consistently starts strong with sales around $99M, likely driven by New Year campaigns or lingering holiday effects.\n",
    "\n",
    "*    **🌱** Sales decline through spring, reaching a low in April (~$95M) — indicating a seasonal dip in consumer activity.\n",
    "\n",
    "*    **☀️** Rebounds in May and August (~$102M) suggest mid-year promotional boosts or seasonal buying trends.\n",
    "\n",
    "*    **📦** From September to December, revenue stabilizes between 💲99M–💲101M, reflecting steady demand during the festive and year-end season."
   ]
  },
  {
   "cell_type": "markdown",
   "metadata": {
    "id": "Tf0lO0WlV0FE"
   },
   "source": [
    "# **3.🔝** Top 10 Products by Revenue (in Millions)\n",
    "\n",
    "🔹 **🎯** Goal:\n",
    "\n",
    "Identify the highest-earning products to better focus marketing efforts and inventory management.\n",
    "\n",
    "🔹 **📊** Chart Type:\n",
    "\n",
    "Horizontal Bar Chart — ideal for displaying product names clearly and comparing revenue side by side.\n",
    "\n",
    "🔹 **🔍** EDA Type:\n",
    "\n",
    "Univariate Analysis – examining one variable: revenue per product.\n",
    "\n",
    "🔹 **🧱** Structure:\n",
    "\n",
    "*    Products are sorted in descending order (top-selling first)\n",
    "\n",
    "*    Bars display total revenue scaled to millions for clarity\n",
    "\n",
    "*    Only the top 10 products are shown to keep the chart focused and actionable"
   ]
  },
  {
   "cell_type": "code",
   "execution_count": 18,
   "metadata": {
    "colab": {
     "base_uri": "https://localhost:8080/",
     "height": 514
    },
    "executionInfo": {
     "elapsed": 38,
     "status": "ok",
     "timestamp": 1752635351332,
     "user": {
      "displayName": "Premsainath Reddy",
      "userId": "07841810758834407388"
     },
     "user_tz": -330
    },
    "id": "jMjM5t7ypGR6",
    "outputId": "4f8465ce-5a51-45cb-f2f1-89cb8f678a7e"
   },
   "outputs": [
    {
     "data": {
      "image/png": "[encoded data removed]",
      "text/plain": [
       "<Figure size 900x400 with 1 Axes>"
      ]
     },
     "metadata": {},
     "output_type": "display_data"
    }
   ],
   "source": [
    "# Calculate total revenue for each product and convert values to millions,returns series\n",
    "top_prod = df.groupby('product_name')['revenue'].sum() / 1_000_000\n",
    "\n",
    "# Select the top 10 products by revenue\n",
    "top_prod = top_prod.nlargest(10)\n",
    "\n",
    "# Set the figure size for clarity\n",
    "plt.figure(figsize=(9, 4))\n",
    "\n",
    "# Plot a horizontal bar chart: x-axis as revenue in millions, y-axis as product names\n",
    "sns.barplot(\n",
    "    x=top_prod.values,    # X-axis: revenue values in millions\n",
    "    y=top_prod.index,     # Y-axis: product names\n",
    "    hue=top_prod.index,\n",
    "    palette='viridis'     # Color palette for bars\n",
    ")\n",
    "\n",
    "# Add title and axis labels\n",
    "plt.title('Top 10 Products by Revenue (in Millions)')  # Main title\n",
    "plt.xlabel('Total Revenue (in Millions)')              # X-axis label\n",
    "plt.ylabel('Product Name')                             # Y-axis label\n",
    "\n",
    "# Adjust layout to prevent overlapping elements\n",
    "plt.tight_layout()\n",
    "\n",
    "# Display the plot\n",
    "plt.show()"
   ]
  },
  {
   "cell_type": "markdown",
   "metadata": {
    "id": "N4NWSEccaE24"
   },
   "source": [
    "# **📊 Insights – Top 10 Products by Revenue**\n",
    "\n",
    "*    **🥇** Product 26 and Product 25 lead the pack with revenues of 💲118M and 💲110M, far ahead of the rest.\n",
    "\n",
    "*    **📉** A steep drop follows to Product 13 at 💲78M, then a tight group of mid-tier products ranging between 💲68M–💲75M.\n",
    "\n",
    "*    **🔻** The bottom four products cluster between 💲52M–💲57M, showing similar performance limitations.\n",
    "\n",
    "*    **🚀** Action Point:\n",
    "\n",
    "      *  Target growth strategies for mid-tier performers.\n",
    "\n",
    "      * Focus on efficiency improvements for the lower performers to boost overall revenue impact."
   ]
  },
  {
   "cell_type": "markdown",
   "metadata": {
    "id": "YPC9YVUAbfJh"
   },
   "source": [
    "# **4.💹 Top 10 Products by Average Profit Margin**\n",
    "\n",
    "🔹 **🎯** Goal:\n",
    "\n",
    "Compare the average profit margin across products to identify items that deliver high profitability, regardless of total revenue.\n",
    "\n",
    "🔹 **📊** Chart Type:\n",
    "\n",
    "Horizontal Bar Chart — best suited for comparing multiple product names with clear visibility.\n",
    "\n",
    "🔹 **🔍** EDA Type:\n",
    "\n",
    "Univariate Analysis – focusing on a single metric: average profit margin per product.\n",
    "\n",
    "🔹 **🧱** Structure:\n",
    "\n",
    "*    Bars sorted in descending order of average profit margin\n",
    "\n",
    "*    Shows the top 10 most profitable products\n",
    "\n",
    "*    Highlights which products are most cost-efficient to sell"
   ]
  },
  {
   "cell_type": "code",
   "execution_count": 19,
   "metadata": {
    "colab": {
     "base_uri": "https://localhost:8080/",
     "height": 514
    },
    "executionInfo": {
     "elapsed": 495,
     "status": "ok",
     "timestamp": 1752635351878,
     "user": {
      "displayName": "Premsainath Reddy",
      "userId": "07841810758834407388"
     },
     "user_tz": -330
    },
    "id": "3kRSD9J9pGVF",
    "outputId": "5c8e05e8-1ed2-4a5f-aee9-901519d5057f"
   },
   "outputs": [
    {
     "data": {
      "image/png": "[encoded data removed]",
      "text/plain": [
       "<Figure size 900x400 with 1 Axes>"
      ]
     },
     "metadata": {},
     "output_type": "display_data"
    }
   ],
   "source": [
    "# Compute average profit per product and take the top 10\n",
    "top_margin = df.groupby('product_name')['profit'].mean().sort_values(ascending=False).head(10)\n",
    "\n",
    "#  Set the figure size for clarity\n",
    "plt.figure(figsize=(9, 4))\n",
    "\n",
    "# Plot a horizontal bar chart\n",
    "sns.barplot(\n",
    "    x=top_margin.values,    # X-axis: average profit values\n",
    "    y=top_margin.index,     # Y-axis: product names\n",
    "    hue=top_margin.index,\n",
    "    palette='viridis'       # Color palette for the bars\n",
    ")\n",
    "\n",
    "# Add title and axis labels\n",
    "plt.title('Top 10 Products by Avg Profit Margin')  # Chart title\n",
    "plt.xlabel('Average Profit Margin (USD)')          # X-axis label\n",
    "plt.ylabel('Product Name')                         # Y-axis label\n",
    "\n",
    "# Adjust layout to prevent clipping and show the plot\n",
    "plt.tight_layout()\n",
    "plt.show()"
   ]
  },
  {
   "cell_type": "markdown",
   "metadata": {
    "id": "SMbqkEPsd5ox"
   },
   "source": [
    "# **📈 Insights – Top 10 Products by Average Profit Margin**\n",
    "\n",
    "*    **🥇** Products 18 and 28 lead with average profit margins between 💲8.0K–💲8.3K, making them the most profitable items.\n",
    "\n",
    "*    **🥈** Products 5 and 11 follow closely with margins around 💲7.9K–💲8.0K.\n",
    "\n",
    "*    **⚖️** Mid-tier performers like Products 12, 26, and 21 show margins in the 💲7.7K–💲7.8K range.\n",
    "\n",
    "*    **🔻** Bottom performers — Products 4, 16, and 1 — fall slightly lower, between 💲7.4K–💲7.6K.\n",
    "\n",
    "*    **🚀** Recommendation: Leverage margin strategies from top performers to boost efficiency and profitability across the product line."
   ]
  },
  {
   "cell_type": "markdown",
   "metadata": {
    "id": "vXQnwbZRfklg"
   },
   "source": [
    "# **5.🛍️ Sales by Channel (Pie Chart)**\n",
    "\n",
    "🔹 **🎯** Goal:\n",
    "\n",
    "Visualize the distribution of total sales across different channels to understand which routes are most dominant.\n",
    "\n",
    "🔹 **📊** Chart Type:\n",
    "\n",
    "Pie Chart — ideal for showing proportion of sales from each channel.\n",
    "\n",
    "🔹 **🔍** EDA Type:\n",
    "\n",
    "Univariate Analysis – focusing on a single variable: channel-wise revenue share.\n",
    "\n",
    "🔹 **🧱** Structure:\n",
    "\n",
    "*    Segments represent each sales channel\n",
    "\n",
    "*    Percentage labels added for clarity\n",
    "\n",
    "*    Color-coded slices for visual separation"
   ]
  },
  {
   "cell_type": "code",
   "execution_count": 20,
   "metadata": {
    "colab": {
     "base_uri": "https://localhost:8080/",
     "height": 503
    },
    "executionInfo": {
     "elapsed": 154,
     "status": "ok",
     "timestamp": 1752635352049,
     "user": {
      "displayName": "Premsainath Reddy",
      "userId": "07841810758834407388"
     },
     "user_tz": -330
    },
    "id": "zcQSXARopGfH",
    "outputId": "8331d55e-13c1-49d5-854f-01e07d1af340"
   },
   "outputs": [
    {
     "data": {
      "image/png": "[encoded data removed]",
      "text/plain": [
       "<Figure size 500x500 with 1 Axes>"
      ]
     },
     "metadata": {},
     "output_type": "display_data"
    }
   ],
   "source": [
    "# Grouping  revenue by sales channel and sort descending\n",
    "chan_sales = df.groupby('channel')['revenue'].sum().sort_values(ascending=False)\n",
    "\n",
    "\n",
    "plt.figure(figsize=(5, 5))\n",
    "\n",
    "# Plot pie chart with percentage labels and a defined start angle\n",
    "plt.pie(\n",
    "    chan_sales.values,\n",
    "    labels=chan_sales.index,\n",
    "    autopct='%1.1f%%',\n",
    "    startangle=140,\n",
    "    colors=sns.color_palette('coolwarm')\n",
    ")\n",
    "\n",
    "# Add title for context\n",
    "plt.title('Total Sales by Channel')\n",
    "\n",
    "# Adjust layout to ensure everything fits well\n",
    "plt.tight_layout()\n",
    "\n",
    "# Display the chart\n",
    "plt.show()"
   ]
  },
  {
   "cell_type": "markdown",
   "metadata": {
    "id": "GaGzL9FjiPnX"
   },
   "source": [
    "\n",
    "# **📊 Insights – Sales by Channel**\n",
    "\n",
    "*    **🏪** Wholesale dominates with 54% of total sales, showing strong reliance on domestic bulk buyers.\n",
    "\n",
    "*    **🔄** Distributors contribute around 31%, supporting internal market reach.\n",
    "\n",
    "*    **🌍** Exports make up only 15%, highlighting an opportunity for international growth.\n",
    "\n",
    "*    **🚀** Recommendation :\n",
    "    To reduce dependency on local channels and minimize risk, focus on expanding export efforts through:\n",
    "\n",
    "     *   Targeted overseas marketing\n",
    "\n",
    "     *   Building strategic international partnerships"
   ]
  },
  {
   "cell_type": "markdown",
   "metadata": {
    "id": "OXN-5GtJ7Y3R"
   },
   "source": [
    "# **6.💰 Average Order Value (AOV) Distribution**\n",
    "\n",
    "🔹 **🎯** Goal:\n",
    "\n",
    "Understand how order values are distributed to spot common spending patterns and identify any outliers.\n",
    "\n",
    "🔹 **📊** Chart Type:\n",
    "\n",
    "Histogram – ideal for visualizing how frequently different order value ranges occur.\n",
    "\n",
    "🔹 **🔍** EDA Type:\n",
    "\n",
    "Univariate Analysis – analyzing a single variable: AOV (Average Order Value).\n",
    "\n",
    "🔹 **🧱** Structure:\n",
    "\n",
    "*    Uses 50 bins for detailed granularity\n",
    "\n",
    "*    Bars are color-filled with edge highlights for clarity\n",
    "\n",
    "*    Helps identify typical order ranges and abnormally high or low values"
   ]
  },
  {
   "cell_type": "code",
   "execution_count": 21,
   "metadata": {
    "colab": {
     "base_uri": "https://localhost:8080/",
     "height": 363
    },
    "executionInfo": {
     "elapsed": 802,
     "status": "ok",
     "timestamp": 1752635352865,
     "user": {
      "displayName": "Premsainath Reddy",
      "userId": "07841810758834407388"
     },
     "user_tz": -330
    },
    "id": "vHmSXDO_pGiF",
    "outputId": "c7ad1a0f-5ff3-43b8-d5ff-70521b0ca706"
   },
   "outputs": [
    {
     "data": {
      "image/png": "[encoded data removed]",
      "text/plain": [
       "<Figure size 1200x400 with 1 Axes>"
      ]
     },
     "metadata": {},
     "output_type": "display_data"
    }
   ],
   "source": [
    "aov = df.groupby('order_number')['revenue'].sum()\n",
    "\n",
    "# Set the figure size\n",
    "plt.figure(figsize=(12, 4))\n",
    "\n",
    "# Plot a histogram of order values\n",
    "plt.hist(\n",
    "    aov,\n",
    "    bins=50,\n",
    "    color='skyblue',\n",
    "    edgecolor='black'\n",
    ")\n",
    "\n",
    "# Add title and axis labels for context\n",
    "plt.title('Distribution of Average Order Value')\n",
    "plt.xlabel('Order Value (USD)')\n",
    "plt.ylabel('Number of Orders')\n",
    "\n",
    "# Adjust layout to prevent clipping\n",
    "plt.tight_layout()\n",
    "\n",
    "# Show the plot\n",
    "plt.show()"
   ]
  },
  {
   "cell_type": "markdown",
   "metadata": {
    "id": "fNu9bWKKCNBk"
   },
   "source": [
    "# **📦 Insights – AOV (Average Order Value) Distribution**\n",
    "\n",
    "*    **📊** The distribution is right-skewed, meaning most orders are small to medium, while a few are very large.\n",
    "\n",
    "*    **🎯** A majority of orders fall between $20K and $120K, with a visible peak around $50K–$60K.\n",
    "\n",
    "*    **🐳** A long tail stretches up to $400K–$500K, representing high-value but rare orders.\n",
    "\n",
    "*    **💡** Actionable Insight: Focus your analysis or segmentation on the bulk cluster (~$50K), while treating the high-end orders as exceptions or premium cases."
   ]
  },
  {
   "cell_type": "markdown",
   "metadata": {
    "id": "6BwvMKu7KBVz"
   },
   "source": [
    "# **7.📉 Profit Margin % vs. Unit Price**\n",
    "\n",
    "🔹 **🎯** Goal:\n",
    "\n",
    "Explore the relationship between unit price and profit margin percentage to understand if higher-priced products tend to be more or less profitable.\n",
    "\n",
    "🔹 **📊** Chart Type:\n",
    "\n",
    "Scatter Plot — best suited for visualizing correlation between two numeric variables.\n",
    "\n",
    "🔹 **🔍** EDA Type:\n",
    "\n",
    "Bivariate Analysis — analyzing the interaction between unit price and profit margin %.\n",
    "\n",
    "🔹 **🧱** Structure:\n",
    "\n",
    "*    Each dot represents a single order\n",
    "\n",
    "*    X-axis: Unit Price\n",
    "\n",
    "*    Y-axis: Profit Margin %\n",
    "\n",
    "*    Points include transparency (alpha) to highlight dense areas without clutter\n",
    "\n",
    "*    Ideal for spotting:\n",
    "\n",
    "      *  Trends (positive or negative correlation)\n",
    "\n",
    "      *  Clusters of similar performance\n",
    "\n",
    "      *  Outliers"
   ]
  },
  {
   "cell_type": "code",
   "execution_count": 22,
   "metadata": {
    "colab": {
     "base_uri": "https://localhost:8080/",
     "height": 407
    },
    "executionInfo": {
     "elapsed": 225,
     "status": "ok",
     "timestamp": 1752635353103,
     "user": {
      "displayName": "Premsainath Reddy",
      "userId": "07841810758834407388"
     },
     "user_tz": -330
    },
    "id": "qNPskdpVDv0d",
    "outputId": "452613c4-213d-43b8-cad6-2a39d1264cbf"
   },
   "outputs": [
    {
     "data": {
      "image/png": "[encoded data removed]",
      "text/plain": [
       "<Figure size 600x400 with 1 Axes>"
      ]
     },
     "metadata": {},
     "output_type": "display_data"
    }
   ],
   "source": [
    "# Set the figure size for clarity\n",
    "plt.figure(figsize=(6,4))\n",
    "\n",
    "# Plot unit price vs. profit margin percentage\n",
    "plt.scatter(\n",
    "    df['unit_price'],\n",
    "    df['profit_margin_pct'],\n",
    "    alpha=0.6,\n",
    "    color='green'\n",
    ")\n",
    "\n",
    "# Add title and axis labels\n",
    "plt.title('Profit Margin % vs. Unit Price')  # Chart title\n",
    "plt.xlabel('Unit Price (USD)')                # X-axis label\n",
    "plt.ylabel('Profit Margin (%)')               # Y-axis label\n",
    "\n",
    "# Adjust layout to prevent clipping\n",
    "plt.tight_layout()\n",
    "\n",
    "# Display the plot\n",
    "plt.show()"
   ]
  },
  {
   "cell_type": "markdown",
   "metadata": {
    "id": "OA8pka3tPCos"
   },
   "source": [
    "# **📈 Insights – Profit Margin % vs. Unit Price**\n",
    "\n",
    "*   **🔍** Profit margins largely fall between 18% and 60%, regardless of unit price.\n",
    "\n",
    "*    **🚫** No clear correlation is observed between price and profitability, indicating pricing and cost structures are decoupled.\n",
    "\n",
    "*    **⚠️** Outliers with margins below 18%, seen across both ends of the price range, could point to cost inefficiencies, discounts, or mispriced items.\n",
    "\n",
    "*    **🎯** These low-margin products should be flagged for review, especially if they’re sold frequently or drive a large portion of sales."
   ]
  },
  {
   "cell_type": "markdown",
   "metadata": {
    "id": "MD7aKoy-eYUj"
   },
   "source": [
    "# **8. Unit Price Distribution per Product**\n",
    "\n",
    "🔹 **🎯** Goal:\n",
    "\n",
    "Compare unit price variability across different products to assess pricing consistency and detect outliers that may indicate irregularities or special conditions.\n",
    "\n",
    "🔹 **📊** Chart:\n",
    "\n",
    "Boxplot — Ideal for visualizing spread, median, quartiles, and outliers in unit prices across products.\n",
    "\n",
    "🔹  **🔍** EDA Type:\n",
    "\n",
    "Bivariate – Analyzing the relationship between:\n",
    "\n",
    "*    Product Name (categorical)\n",
    "\n",
    "*    Unit Price (numerical)\n",
    "\n",
    "🔹 **🧱** Structure:\n",
    "\n",
    "*    X-axis: Product names (rotated for readability)\n",
    "\n",
    "*    Y-axis: Unit price\n",
    "\n",
    "*    Each box represents:\n",
    "\n",
    "      *  📍 Median unit price (center line)\n",
    "\n",
    "      * 📦 IQR (Interquartile Range) – central 50% of prices\n",
    "\n",
    "      *  🪜 Whiskers – price range excluding outliers\n",
    "\n",
    "      *  ❗ Outliers – extreme values beyond typical range"
   ]
  },
  {
   "cell_type": "code",
   "execution_count": 23,
   "metadata": {
    "colab": {
     "base_uri": "https://localhost:8080/",
     "height": 363
    },
    "executionInfo": {
     "elapsed": 58,
     "status": "ok",
     "timestamp": 1752635353291,
     "user": {
      "displayName": "Premsainath Reddy",
      "userId": "07841810758834407388"
     },
     "user_tz": -330
    },
    "id": "R6z6EhCGDv3y",
    "outputId": "c4839467-5446-4972-8e8d-cf8d58bf0dd1"
   },
   "outputs": [
    {
     "data": {
      "image/png": "[encoded data removed]",
      "text/plain": [
       "<Figure size 1200x400 with 1 Axes>"
      ]
     },
     "metadata": {},
     "output_type": "display_data"
    }
   ],
   "source": [
    "# Set figure size for clarity\n",
    "plt.figure(figsize=(12,4))\n",
    "\n",
    "# Create a boxplot of unit_price by product_name\n",
    "sns.boxplot(\n",
    "    data=df,\n",
    "    x='product_name',\n",
    "    y='unit_price',\n",
    "    color='g'\n",
    ")\n",
    "\n",
    "# Add title and axis labels\n",
    "plt.title('Unit Price Distribution per Product')  # Chart title\n",
    "plt.xlabel('Product')                              # X-axis label\n",
    "plt.ylabel('Unit Price (USD)')                     # Y-axis label\n",
    "\n",
    "# Rotate x-axis labels for better readability\n",
    "plt.xticks(rotation=45, ha='right')\n",
    "\n",
    "# Adjust layout to prevent clipping of labels\n",
    "plt.tight_layout()\n",
    "\n",
    "# Display the plot\n",
    "plt.show()"
   ]
  },
  {
   "cell_type": "markdown",
   "metadata": {
    "id": "R_v6ktlmf9Cm"
   },
   "source": [
    "# **📊 Insights – Unit Price Distribution per Product**\n",
    "\n",
    "*    **🚀** Products 8, 17, 20, 27, and 28 exhibit high-end revenue outliers, far above the normal range. These spikes likely result from bulk orders, premium bundles, or special-edition variants.\n",
    "\n",
    "*    **🧪** On the other hand, Products 20 and 27 show extremely low-price outliers (around 💲0–💲100), possibly due to promotional giveaways, samples, or test SKUs.\n",
    "\n",
    "*    **📉** Such outliers can skew average unit price, potentially misleading pricing or margin analysis.\n",
    "\n",
    "*    **🎯** To ensure accurate reporting:\n",
    "\n",
    "       * **✅** Exclude these extreme outliers from average price calculations.\n",
    "\n",
    "       *  **🔍** Analyze separately whether these one-off price points should be:\n",
    "\n",
    "          *  **📢** Formalized into a recurring promotional strategy, or\n",
    "\n",
    "          * **🛑** Phased out to maintain pricing consistency and protect brand value."
   ]
  },
  {
   "cell_type": "markdown",
   "metadata": {
    "id": "vtbZGFRMhylv"
   },
   "source": [
    "# **9. Total Sales by U.S. Region**\n",
    "🔹 **🎯** Goal:\n",
    "\n",
    "Compare total sales across U.S. regions to identify:\n",
    "\n",
    "*    💰 Top-performing markets\n",
    "\n",
    "*    📈 Growth opportunities in underperforming regions\n",
    "\n",
    "\n",
    "🔹 **📊** Chart Type:\n",
    "\n",
    "Horizontal Bar Chart — ideal for side-by-side comparison of regional performance.\n",
    "\n",
    "🔹 **🔍** EDA Type:\n",
    "\n",
    "Univariate Comparison — analyzing sales totals by a single categorical variable: Region.\n",
    "\n",
    "🔹 **🧱** Structure:\n",
    "\n",
    "*    🗂️ Y-axis: U.S. regions (e.g., Northeast, Midwest, South, West)\n",
    "\n",
    "*    💵 X-axis: Total revenue (in millions USD)\n",
    "\n",
    "*    Bars sorted descending (from highest to lowest) for easy scanning\n",
    "\n",
    "*    🎨 Use a clean color palette Greens_r for visual clarity"
   ]
  },
  {
   "cell_type": "code",
   "execution_count": 24,
   "metadata": {
    "colab": {
     "base_uri": "https://localhost:8080/",
     "height": 514
    },
    "executionInfo": {
     "elapsed": 261,
     "status": "ok",
     "timestamp": 1752635353560,
     "user": {
      "displayName": "Premsainath Reddy",
      "userId": "07841810758834407388"
     },
     "user_tz": -330
    },
    "id": "m11eMgVhPZUS",
    "outputId": "c7567168-acf5-48b5-cc36-f2db874a9a9b"
   },
   "outputs": [
    {
     "data": {
      "image/png": "[encoded data removed]",
      "text/plain": [
       "<Figure size 1000x400 with 1 Axes>"
      ]
     },
     "metadata": {},
     "output_type": "display_data"
    }
   ],
   "source": [
    "# Aggregate total sales by region (in millions)\n",
    "region_sales = (\n",
    "    df\n",
    "    .groupby('us_region')['revenue']\n",
    "    .sum()\n",
    "    .sort_values(ascending=False)  # so bars go top→bottom\n",
    "    / 1e6                         # convert to millions\n",
    ")\n",
    "\n",
    "# Plot\n",
    "plt.figure(figsize=(10, 4))\n",
    "sns.barplot(\n",
    "    x=region_sales.values,\n",
    "    y=region_sales.index,\n",
    "    hue=region_sales.index,\n",
    "    palette='Greens_r'\n",
    ")\n",
    "\n",
    "# Formatting\n",
    "plt.title('Total Sales by US Region', fontsize=16, pad=12)\n",
    "plt.xlabel('Total Sales (in Millions USD)', fontsize=12)\n",
    "plt.ylabel('US Region', fontsize=12)\n",
    "plt.xticks(rotation=0)\n",
    "sns.despine(left=True, bottom=True) # Used to Remove Borders\n",
    "\n",
    "plt.tight_layout()\n",
    "plt.show()\n"
   ]
  },
  {
   "cell_type": "markdown",
   "metadata": {
    "id": "0siuc3iYj8tf"
   },
   "source": [
    "# **📍 Insights – Total Sales by U.S. Region**\n",
    "*    **🏆** West leads all regions with approximately $360 M in sales (~35% of total), firmly establishing itself as the market leader.\n",
    "\n",
    "*    **🔁** South and Midwest follow closely, each generating over $320 M (~32%) — reflecting consistent demand and strong regional presence.\n",
    "\n",
    "*    **🧭** Northeast, with around $210 M (~20%), lags behind — indicating a growth opportunity that remains underutilized.\n",
    "\n",
    "*    **📈** Actionable Strategy\n",
    "\n",
    "   * **🎯** Close the Northeast gap by launching targeted local promotions, expanding distribution channels, and developing strategic partnerships.\n",
    "\n",
    "\n"
   ]
  },
  {
   "cell_type": "markdown",
   "metadata": {
    "id": "qY7s_OGirbMC"
   },
   "source": [
    "# **10. Total Sales by State (Choropleth Map)**\n",
    "🔹 **🎯** Goal:\n",
    "\n",
    "Visualize the geographic distribution of sales to:\n",
    "\n",
    "*    Identify 🏆 top-performing states\n",
    "\n",
    "*    Spot 📉 underperforming regions\n",
    "\n",
    "*    Reveal 🌍 regional sales gaps for strategic action\n",
    "\n",
    "🔹 **🗺️** Chart Type:\n",
    "\n",
    "U.S. Choropleth Map — a geospatial chart where each state is shaded based on total sales volume.\n",
    "\n",
    "🔹 **🔍** EDA Type:\n",
    "\n",
    "Univariate Geospatial Analysis — focusing on one variable: total sales, across geographical regions (states).\n",
    "\n",
    "🔹 **🧱** Structure:\n",
    "\n",
    "*    🌎 Map Scope: U.S. states only (excluding territories for clarity)\n",
    "\n",
    "*    🎨 Color Gradient: Blue scale (light → dark) representing low → high sales\n",
    "\n",
    "*    📊 Legend: On the side showing sales scale in millions USD\n",
    "\n",
    "*    🖱️ Hover Tooltips: Show exact sales values for each state (e.g., “Texas: $110M”)"
   ]
  },
  {
   "cell_type": "code",
   "execution_count": 25,
   "metadata": {
    "colab": {
     "base_uri": "https://localhost:8080/",
     "height": 542
    },
    "executionInfo": {
     "elapsed": 1630,
     "status": "ok",
     "timestamp": 1752635355203,
     "user": {
      "displayName": "Premsainath Reddy",
      "userId": "07841810758834407388"
     },
     "user_tz": -330
    },
    "id": "bkV0ZiwzDwLn",
    "outputId": "4ab5c5c7-cdcb-46d7-bf5a-5f1f6a9ea52e"
   },
   "outputs": [
    {
     "data": {
      "application/vnd.plotly.v1+json": {
       "config": {
        "plotlyServerURL": "https://plot.ly"
       },
       "data": [
        {
         "coloraxis": "coloraxis",
         "customdata": {
          "bdata": "8y84OTJlJUAlLyHVZoIjQK9MrhhkYzdAPKOtSiKZbEChQr8ADK87QIcoFUMoIEZAWmzuQznM+j/bzgiAO/rzP1iqC3gZjVZAZo+r7Ba6NEC0ZERYQ1QrQNXQBmADUhxA8K2jBUPDW0BvqTkvBE1LQFxEb0yqcSRA+5XOh2epEUAB/oQOFf4lQAh5mFGHgUFAyFNFp51cM0AYpxB+mBP5PzqJUow9g0NAGZKTiVuFOEANKfUb3OAwQC55l+axMQtAFU0MbhBSC0AdKnxsgR84QNGn+joVhQ9ANiYfFsW+E0BI2FzaFQ8DQAbzV8hcakdA3QSEewq9E0AaYUDlTk8oQIZVvJF5xEtAZOGQsuo2OUAm++dpwFgnQEmcupegGTBAwb3XtWI6M0BOhdPd0H8MQNiLVw9OWh1AD9mbc0vm+j/N6EfDKT8sQFvuzATDAFVA+7DeqBXqMUDll8EYkWI1QAZvo1x16jxABAMIH0osLUAnPcIfNFH8Pw==",
          "dtype": "f8",
          "shape": "47, 1"
         },
         "geo": "geo",
         "hovertemplate": "state_code=%{location}<br>Total Sales (M USD)=%{z:.2f}<extra></extra>",
         "locationmode": "USA-states",
         "locations": [
          "AL",
          "AR",
          "AZ",
          "CA",
          "CO",
          "CT",
          "DC",
          "DE",
          "FL",
          "GA",
          "IA",
          "ID",
          "IL",
          "IN",
          "KS",
          "KY",
          "LA",
          "MA",
          "MD",
          "ME",
          "MI",
          "MN",
          "MO",
          "MS",
          "MT",
          "NC",
          "ND",
          "NE",
          "NH",
          "NJ",
          "NM",
          "NV",
          "NY",
          "OH",
          "OK",
          "OR",
          "PA",
          "RI",
          "SC",
          "SD",
          "TN",
          "TX",
          "UT",
          "VA",
          "WA",
          "WI",
          "WY"
         ],
         "name": "",
         "type": "choropleth",
         "z": {
          "bdata": "8y84OTJlJUAlLyHVZoIjQK9MrhhkYzdAPKOtSiKZbEChQr8ADK87QIcoFUMoIEZAWmzuQznM+j/bzgiAO/rzP1iqC3gZjVZAZo+r7Ba6NEC0ZERYQ1QrQNXQBmADUhxA8K2jBUPDW0BvqTkvBE1LQFxEb0yqcSRA+5XOh2epEUAB/oQOFf4lQAh5mFGHgUFAyFNFp51cM0AYpxB+mBP5PzqJUow9g0NAGZKTiVuFOEANKfUb3OAwQC55l+axMQtAFU0MbhBSC0AdKnxsgR84QNGn+joVhQ9ANiYfFsW+E0BI2FzaFQ8DQAbzV8hcakdA3QSEewq9E0AaYUDlTk8oQIZVvJF5xEtAZOGQsuo2OUAm++dpwFgnQEmcupegGTBAwb3XtWI6M0BOhdPd0H8MQNiLVw9OWh1AD9mbc0vm+j/N6EfDKT8sQFvuzATDAFVA+7DeqBXqMUDll8EYkWI1QAZvo1x16jxABAMIH0osLUAnPcIfNFH8Pw==",
          "dtype": "f8"
         }
        }
       ],
       "layout": {
        "coloraxis": {
         "colorbar": {
          "ticksuffix": "M",
          "title": {
           "text": "Sales (M USD)"
          }
         },
         "colorscale": [
          [
           0,
           "rgb(247,251,255)"
          ],
          [
           0.125,
           "rgb(222,235,247)"
          ],
          [
           0.25,
           "rgb(198,219,239)"
          ],
          [
           0.375,
           "rgb(158,202,225)"
          ],
          [
           0.5,
           "rgb(107,174,214)"
          ],
          [
           0.625,
           "rgb(66,146,198)"
          ],
          [
           0.75,
           "rgb(33,113,181)"
          ],
          [
           0.875,
           "rgb(8,81,156)"
          ],
          [
           1,
           "rgb(8,48,107)"
          ]
         ]
        },
        "geo": {
         "center": {},
         "domain": {
          "x": [
           0,
           1
          ],
          "y": [
           0,
           1
          ]
         },
         "scope": "usa"
        },
        "legend": {
         "tracegroupgap": 0
        },
        "margin": {
         "b": 0,
         "l": 0,
         "r": 0,
         "t": 40
        },
        "template": {
         "data": {
          "bar": [
           {
            "error_x": {
             "color": "#2a3f5f"
            },
            "error_y": {
             "color": "#2a3f5f"
            },
            "marker": {
             "line": {
              "color": "#E5ECF6",
              "width": 0.5
             },
             "pattern": {
              "fillmode": "overlay",
              "size": 10,
              "solidity": 0.2
             }
            },
            "type": "bar"
           }
          ],
          "barpolar": [
           {
            "marker": {
             "line": {
              "color": "#E5ECF6",
              "width": 0.5
             },
             "pattern": {
              "fillmode": "overlay",
              "size": 10,
              "solidity": 0.2
             }
            },
            "type": "barpolar"
           }
          ],
          "carpet": [
           {
            "aaxis": {
             "endlinecolor": "#2a3f5f",
             "gridcolor": "white",
             "linecolor": "white",
             "minorgridcolor": "white",
             "startlinecolor": "#2a3f5f"
            },
            "baxis": {
             "endlinecolor": "#2a3f5f",
             "gridcolor": "white",
             "linecolor": "white",
             "minorgridcolor": "white",
             "startlinecolor": "#2a3f5f"
            },
            "type": "carpet"
           }
          ],
          "choropleth": [
           {
            "colorbar": {
             "outlinewidth": 0,
             "ticks": ""
            },
            "type": "choropleth"
           }
          ],
          "contour": [
           {
            "colorbar": {
             "outlinewidth": 0,
             "ticks": ""
            },
            "colorscale": [
             [
              0,
              "#0d0887"
             ],
             [
              0.1111111111111111,
              "#46039f"
             ],
             [
              0.2222222222222222,
              "#7201a8"
             ],
             [
              0.3333333333333333,
              "#9c179e"
             ],
             [
              0.4444444444444444,
              "#bd3786"
             ],
             [
              0.5555555555555556,
              "#d8576b"
             ],
             [
              0.6666666666666666,
              "#ed7953"
             ],
             [
              0.7777777777777778,
              "#fb9f3a"
             ],
             [
              0.8888888888888888,
              "#fdca26"
             ],
             [
              1,
              "#f0f921"
             ]
            ],
            "type": "contour"
           }
          ],
          "contourcarpet": [
           {
            "colorbar": {
             "outlinewidth": 0,
             "ticks": ""
            },
            "type": "contourcarpet"
           }
          ],
          "heatmap": [
           {
            "colorbar": {
             "outlinewidth": 0,
             "ticks": ""
            },
            "colorscale": [
             [
              0,
              "#0d0887"
             ],
             [
              0.1111111111111111,
              "#46039f"
             ],
             [
              0.2222222222222222,
              "#7201a8"
             ],
             [
              0.3333333333333333,
              "#9c179e"
             ],
             [
              0.4444444444444444,
              "#bd3786"
             ],
             [
              0.5555555555555556,
              "#d8576b"
             ],
             [
              0.6666666666666666,
              "#ed7953"
             ],
             [
              0.7777777777777778,
              "#fb9f3a"
             ],
             [
              0.8888888888888888,
              "#fdca26"
             ],
             [
              1,
              "#f0f921"
             ]
            ],
            "type": "heatmap"
           }
          ],
          "histogram": [
           {
            "marker": {
             "pattern": {
              "fillmode": "overlay",
              "size": 10,
              "solidity": 0.2
             }
            },
            "type": "histogram"
           }
          ],
          "histogram2d": [
           {
            "colorbar": {
             "outlinewidth": 0,
             "ticks": ""
            },
            "colorscale": [
             [
              0,
              "#0d0887"
             ],
             [
              0.1111111111111111,
              "#46039f"
             ],
             [
              0.2222222222222222,
              "#7201a8"
             ],
             [
              0.3333333333333333,
              "#9c179e"
             ],
             [
              0.4444444444444444,
              "#bd3786"
             ],
             [
              0.5555555555555556,
              "#d8576b"
             ],
             [
              0.6666666666666666,
              "#ed7953"
             ],
             [
              0.7777777777777778,
              "#fb9f3a"
             ],
             [
              0.8888888888888888,
              "#fdca26"
             ],
             [
              1,
              "#f0f921"
             ]
            ],
            "type": "histogram2d"
           }
          ],
          "histogram2dcontour": [
           {
            "colorbar": {
             "outlinewidth": 0,
             "ticks": ""
            },
            "colorscale": [
             [
              0,
              "#0d0887"
             ],
             [
              0.1111111111111111,
              "#46039f"
             ],
             [
              0.2222222222222222,
              "#7201a8"
             ],
             [
              0.3333333333333333,
              "#9c179e"
             ],
             [
              0.4444444444444444,
              "#bd3786"
             ],
             [
              0.5555555555555556,
              "#d8576b"
             ],
             [
              0.6666666666666666,
              "#ed7953"
             ],
             [
              0.7777777777777778,
              "#fb9f3a"
             ],
             [
              0.8888888888888888,
              "#fdca26"
             ],
             [
              1,
              "#f0f921"
             ]
            ],
            "type": "histogram2dcontour"
           }
          ],
          "mesh3d": [
           {
            "colorbar": {
             "outlinewidth": 0,
             "ticks": ""
            },
            "type": "mesh3d"
           }
          ],
          "parcoords": [
           {
            "line": {
             "colorbar": {
              "outlinewidth": 0,
              "ticks": ""
             }
            },
            "type": "parcoords"
           }
          ],
          "pie": [
           {
            "automargin": true,
            "type": "pie"
           }
          ],
          "scatter": [
           {
            "fillpattern": {
             "fillmode": "overlay",
             "size": 10,
             "solidity": 0.2
            },
            "type": "scatter"
           }
          ],
          "scatter3d": [
           {
            "line": {
             "colorbar": {
              "outlinewidth": 0,
              "ticks": ""
             }
            },
            "marker": {
             "colorbar": {
              "outlinewidth": 0,
              "ticks": ""
             }
            },
            "type": "scatter3d"
           }
          ],
          "scattercarpet": [
           {
            "marker": {
             "colorbar": {
              "outlinewidth": 0,
              "ticks": ""
             }
            },
            "type": "scattercarpet"
           }
          ],
          "scattergeo": [
           {
            "marker": {
             "colorbar": {
              "outlinewidth": 0,
              "ticks": ""
             }
            },
            "type": "scattergeo"
           }
          ],
          "scattergl": [
           {
            "marker": {
             "colorbar": {
              "outlinewidth": 0,
              "ticks": ""
             }
            },
            "type": "scattergl"
           }
          ],
          "scattermap": [
           {
            "marker": {
             "colorbar": {
              "outlinewidth": 0,
              "ticks": ""
             }
            },
            "type": "scattermap"
           }
          ],
          "scattermapbox": [
           {
            "marker": {
             "colorbar": {
              "outlinewidth": 0,
              "ticks": ""
             }
            },
            "type": "scattermapbox"
           }
          ],
          "scatterpolar": [
           {
            "marker": {
             "colorbar": {
              "outlinewidth": 0,
              "ticks": ""
             }
            },
            "type": "scatterpolar"
           }
          ],
          "scatterpolargl": [
           {
            "marker": {
             "colorbar": {
              "outlinewidth": 0,
              "ticks": ""
             }
            },
            "type": "scatterpolargl"
           }
          ],
          "scatterternary": [
           {
            "marker": {
             "colorbar": {
              "outlinewidth": 0,
              "ticks": ""
             }
            },
            "type": "scatterternary"
           }
          ],
          "surface": [
           {
            "colorbar": {
             "outlinewidth": 0,
             "ticks": ""
            },
            "colorscale": [
             [
              0,
              "#0d0887"
             ],
             [
              0.1111111111111111,
              "#46039f"
             ],
             [
              0.2222222222222222,
              "#7201a8"
             ],
             [
              0.3333333333333333,
              "#9c179e"
             ],
             [
              0.4444444444444444,
              "#bd3786"
             ],
             [
              0.5555555555555556,
              "#d8576b"
             ],
             [
              0.6666666666666666,
              "#ed7953"
             ],
             [
              0.7777777777777778,
              "#fb9f3a"
             ],
             [
              0.8888888888888888,
              "#fdca26"
             ],
             [
              1,
              "#f0f921"
             ]
            ],
            "type": "surface"
           }
          ],
          "table": [
           {
            "cells": {
             "fill": {
              "color": "#EBF0F8"
             },
             "line": {
              "color": "white"
             }
            },
            "header": {
             "fill": {
              "color": "#C8D4E3"
             },
             "line": {
              "color": "white"
             }
            },
            "type": "table"
           }
          ]
         },
         "layout": {
          "annotationdefaults": {
           "arrowcolor": "#2a3f5f",
           "arrowhead": 0,
           "arrowwidth": 1
          },
          "autotypenumbers": "strict",
          "coloraxis": {
           "colorbar": {
            "outlinewidth": 0,
            "ticks": ""
           }
          },
          "colorscale": {
           "diverging": [
            [
             0,
             "#8e0152"
            ],
            [
             0.1,
             "#c51b7d"
            ],
            [
             0.2,
             "#de77ae"
            ],
            [
             0.3,
             "#f1b6da"
            ],
            [
             0.4,
             "#fde0ef"
            ],
            [
             0.5,
             "#f7f7f7"
            ],
            [
             0.6,
             "#e6f5d0"
            ],
            [
             0.7,
             "#b8e186"
            ],
            [
             0.8,
             "#7fbc41"
            ],
            [
             0.9,
             "#4d9221"
            ],
            [
             1,
             "#276419"
            ]
           ],
           "sequential": [
            [
             0,
             "#0d0887"
            ],
            [
             0.1111111111111111,
             "#46039f"
            ],
            [
             0.2222222222222222,
             "#7201a8"
            ],
            [
             0.3333333333333333,
             "#9c179e"
            ],
            [
             0.4444444444444444,
             "#bd3786"
            ],
            [
             0.5555555555555556,
             "#d8576b"
            ],
            [
             0.6666666666666666,
             "#ed7953"
            ],
            [
             0.7777777777777778,
             "#fb9f3a"
            ],
            [
             0.8888888888888888,
             "#fdca26"
            ],
            [
             1,
             "#f0f921"
            ]
           ],
           "sequentialminus": [
            [
             0,
             "#0d0887"
            ],
            [
             0.1111111111111111,
             "#46039f"
            ],
            [
             0.2222222222222222,
             "#7201a8"
            ],
            [
             0.3333333333333333,
             "#9c179e"
            ],
            [
             0.4444444444444444,
             "#bd3786"
            ],
            [
             0.5555555555555556,
             "#d8576b"
            ],
            [
             0.6666666666666666,
             "#ed7953"
            ],
            [
             0.7777777777777778,
             "#fb9f3a"
            ],
            [
             0.8888888888888888,
             "#fdca26"
            ],
            [
             1,
             "#f0f921"
            ]
           ]
          },
          "colorway": [
           "#636efa",
           "#EF553B",
           "#00cc96",
           "#ab63fa",
           "#FFA15A",
           "#19d3f3",
           "#FF6692",
           "#B6E880",
           "#FF97FF",
           "#FECB52"
          ],
          "font": {
           "color": "#2a3f5f"
          },
          "geo": {
           "bgcolor": "white",
           "lakecolor": "white",
           "landcolor": "#E5ECF6",
           "showlakes": true,
           "showland": true,
           "subunitcolor": "white"
          },
          "hoverlabel": {
           "align": "left"
          },
          "hovermode": "closest",
          "mapbox": {
           "style": "light"
          },
          "paper_bgcolor": "white",
          "plot_bgcolor": "#E5ECF6",
          "polar": {
           "angularaxis": {
            "gridcolor": "white",
            "linecolor": "white",
            "ticks": ""
           },
           "bgcolor": "#E5ECF6",
           "radialaxis": {
            "gridcolor": "white",
            "linecolor": "white",
            "ticks": ""
           }
          },
          "scene": {
           "xaxis": {
            "backgroundcolor": "#E5ECF6",
            "gridcolor": "white",
            "gridwidth": 2,
            "linecolor": "white",
            "showbackground": true,
            "ticks": "",
            "zerolinecolor": "white"
           },
           "yaxis": {
            "backgroundcolor": "#E5ECF6",
            "gridcolor": "white",
            "gridwidth": 2,
            "linecolor": "white",
            "showbackground": true,
            "ticks": "",
            "zerolinecolor": "white"
           },
           "zaxis": {
            "backgroundcolor": "#E5ECF6",
            "gridcolor": "white",
            "gridwidth": 2,
            "linecolor": "white",
            "showbackground": true,
            "ticks": "",
            "zerolinecolor": "white"
           }
          },
          "shapedefaults": {
           "line": {
            "color": "#2a3f5f"
           }
          },
          "ternary": {
           "aaxis": {
            "gridcolor": "white",
            "linecolor": "white",
            "ticks": ""
           },
           "baxis": {
            "gridcolor": "white",
            "linecolor": "white",
            "ticks": ""
           },
           "bgcolor": "#E5ECF6",
           "caxis": {
            "gridcolor": "white",
            "linecolor": "white",
            "ticks": ""
           }
          },
          "title": {
           "x": 0.05
          },
          "xaxis": {
           "automargin": true,
           "gridcolor": "white",
           "linecolor": "white",
           "ticks": "",
           "title": {
            "standoff": 15
           },
           "zerolinecolor": "white",
           "zerolinewidth": 2
          },
          "yaxis": {
           "automargin": true,
           "gridcolor": "white",
           "linecolor": "white",
           "ticks": "",
           "title": {
            "standoff": 15
           },
           "zerolinecolor": "white",
           "zerolinewidth": 2
          }
         }
        },
        "title": {
         "text": "Total Sales by State"
        }
       }
      }
     },
     "metadata": {},
     "output_type": "display_data"
    }
   ],
   "source": [
    "import plotly.express as px\n",
    "\n",
    "# Aggregate revenue by state (in millions)\n",
    "state_sales = (\n",
    "    df\n",
    "    .groupby('state_code')['revenue']\n",
    "    .sum()\n",
    "    .reset_index()\n",
    ")\n",
    "state_sales['revenue_m'] = state_sales['revenue'] / 1e6  # convert to millions\n",
    "\n",
    "# Plotly choropleth\n",
    "fig = px.choropleth(\n",
    "    state_sales,\n",
    "    locations='state_code',            # column with state codes\n",
    "    locationmode='USA-states',    # tells Plotly these are US states\n",
    "    color='revenue_m',\n",
    "    scope='usa',\n",
    "    labels={'revenue_m':'Total Sales (M USD)'},\n",
    "    color_continuous_scale='Blues',\n",
    "    hover_data={'revenue_m':':.2f'}  # show 2 decimals\n",
    ")\n",
    "\n",
    "# Layout tuning\n",
    "fig.update_layout(\n",
    "    title_text='Total Sales by State',\n",
    "    margin=dict(l=0, r=0, t=40, b=0),\n",
    "    coloraxis_colorbar=dict(\n",
    "        title='Sales (M USD)',\n",
    "        ticksuffix='M'\n",
    "    )\n",
    ")\n",
    "\n",
    "fig.show()\n"
   ]
  },
  {
   "cell_type": "markdown",
   "metadata": {
    "id": "h5FDiMGuw4AK"
   },
   "source": [
    "# **📍 State-Level Sales Insights – Choropleth Map**\n",
    "\n",
    "*    **🥇** California is the undisputed leader, generating ~$230 M in revenue and over 7,500 orders — more than twice that of the next state. This positions it as the core revenue engine of the business.\n",
    "\n",
    "*    **🥈** Illinois, Florida, and Texas make up the second tier, each contributing between $85–110 M in revenue and 3,600–4,600 orders. These are key strategic markets with strong, stable demand.\n",
    "\n",
    "*    **⚖️** New York and Indiana fall in the middle tier with approximately $54–55 M in revenue from ~2,500 orders — decent performance, but with room for growth.\n",
    "\n",
    "*    **🚦** Connecticut, Michigan, and Massachusetts trail behind, contributing $35–44 M in revenue with 1,600–2,100 orders. These are underperforming regions that may require targeted attention."
   ]
  },
  {
   "cell_type": "markdown",
   "metadata": {
    "id": "LCBXisxZx1jw"
   },
   "source": [
    "# **11. Top & Bottom 10 Customers by Revenue**\n",
    "\n",
    "🔹 **🎯** Goal:\n",
    "\n",
    "Identify the highest and lowest revenue-generating customers to:\n",
    "\n",
    "*    🏆 Target top customers for loyalty & retention\n",
    "\n",
    "*    🚧 Analyze bottom customers for reactivation\n",
    "\n",
    "🔹 **📊** Chart Type:\n",
    "\n",
    "Two horizontal bar charts:\n",
    "\n",
    "*     Top 10 Customers – sorted by highest total revenue\n",
    "\n",
    "*     Bottom 10 Customers – sorted by lowest total revenue\n",
    "\n",
    "🔹 **🔍** EDA Type:\n",
    "\n",
    "Univariate Segmented Analysis – focused on total revenue per customer, split into top and bottom performers.\n",
    "\n",
    "🔹 **🧱** Structure:\n",
    "\n",
    "*    🗂️ Y-axis: Customer names\n",
    "\n",
    "*    💰 X-axis: Total revenue (in millions USD)\n",
    "\n",
    "*    📈 Sort: Descending for top 10, ascending for bottom 10\n",
    "\n",
    "*   🎨 Color Palette: Use a gradient like 'Blues' or 'Blues_r' to reflect intensity\n"
   ]
  },
  {
   "cell_type": "code",
   "execution_count": 26,
   "metadata": {
    "colab": {
     "base_uri": "https://localhost:8080/",
     "height": 343
    },
    "executionInfo": {
     "elapsed": 512,
     "status": "ok",
     "timestamp": 1752635355748,
     "user": {
      "displayName": "Premsainath Reddy",
      "userId": "07841810758834407388"
     },
     "user_tz": -330
    },
    "id": "Vg_-IeGhDwOB",
    "outputId": "49cc7ae2-c236-4dfe-f1be-df7da56f5e8f"
   },
   "outputs": [
    {
     "data": {
      "image/png": "[encoded data removed]",
      "text/plain": [
       "<Figure size 1600x500 with 2 Axes>"
      ]
     },
     "metadata": {},
     "output_type": "display_data"
    }
   ],
   "source": [
    "# 🔝 Calculate total revenue per customer and select top 10\n",
    "top_rev = (\n",
    "    df.groupby('customer_names')['revenue']\n",
    "      .sum()\n",
    "      .sort_values(ascending=False)\n",
    "      .head(10)\n",
    ")\n",
    "\n",
    "# 🔻 Calculate total revenue per customer and select bottom 10\n",
    "bottom_rev = (\n",
    "    df.groupby('customer_names')['revenue']\n",
    "      .sum()\n",
    "      .sort_values(ascending=True)\n",
    "      .head(10)\n",
    ")\n",
    "\n",
    "# Create a figure with two side-by-side subplots\n",
    "fig, axes = plt.subplots(1, 2, figsize=(16, 5))\n",
    "\n",
    "# Plot 1: Top 10 customers by revenue (converted to millions)\n",
    "sns.barplot(\n",
    "    x=top_rev.values / 1e6,    # X-axis: revenue in millions\n",
    "    y=top_rev.index,           # Y-axis: customer names\n",
    "    hue=top_rev.index,         # Explicitly set hue to y variable\n",
    "    palette='Blues_r',         # Color palette (reversed blues)\n",
    "    legend=False,              # Disable legend\n",
    "    ax=axes[0]                 # Draw on the left subplot\n",
    ")\n",
    "axes[0].set_title('Top 10 Customers by Revenue', fontsize=14)         # Title\n",
    "axes[0].set_xlabel('Revenue (Million USD)', fontsize=12)              # X-axis label\n",
    "axes[0].set_ylabel('Customer Name', fontsize=12)                      # Y-axis label\n",
    "\n",
    "# Plot 2: Bottom 10 customers by revenue (converted to millions)\n",
    "sns.barplot(\n",
    "    x=bottom_rev.values / 1e6, # X-axis: revenue in millions\n",
    "    y=bottom_rev.index,        # Y-axis: customer names\n",
    "    hue=bottom_rev.index,      # Explicitly set hue to y variable\n",
    "    palette='Reds',            # Color palette (reds)\n",
    "    legend=False,              # Disable legend\n",
    "    ax=axes[1]                 # Draw on the right subplot\n",
    ")\n",
    "axes[1].set_title('Bottom 10 Customers by Revenue', fontsize=14)      # Title\n",
    "axes[1].set_xlabel('Revenue (Million USD)', fontsize=12)              # X-axis label\n",
    "axes[1].set_ylabel('Customer Name', fontsize=12)                      # Y-axis label\n",
    "\n",
    "# Adjust layout to prevent overlap and display both charts\n",
    "plt.tight_layout()\n",
    "plt.show()"
   ]
  },
  {
   "cell_type": "markdown",
   "metadata": {
    "id": "gBnnTEzrjXKM"
   },
   "source": [
    "# **📊 Customer Revenue Insights — Top vs. Bottom 10**\n",
    "\n",
    "*    **🥇** Aibox Company leads with 💲12.5 M, followed closely by State Ltd at 💲12.2 M. Even the 10th-ranked Deseret Group brings in 💲9.9 M, forming a tightly packed top tier in the 💲10–12 M range.\n",
    "\n",
    "*    **📉** On the lower end, Johnson Ltd tops the bottom group with 💲5.1 M, while BB17 Company trails at 💲4.1 M — nearly half the revenue of top-tier performers.\n",
    "\n",
    "*    **🔻** This stark contrast — from over 💲10 M to under 💲5 M — highlights a high revenue concentration in a small number of customers.\n",
    "\n",
    "#     **✅** Recommended Action\n",
    "\n",
    "*    🔐 Focus on retention, loyalty programs, and upsell strategies for your top 10 customers.\n",
    "\n",
    "*    🚀 Launch targeted marketing or personalized campaigns for bottom-tier customers to increase revenue share and reduce dependency on top accounts."
   ]
  },
  {
   "cell_type": "markdown",
   "metadata": {
    "id": "Zg7ZcQ39nH3i"
   },
   "source": [
    "# **12. Average Profit Margin by Channel**\n",
    "🔹 **🎯** Goal:\n",
    "\n",
    "Compare average profit margins across different sales channels to find out:\n",
    "\n",
    "*    💸 Which channels are most profitable\n",
    "\n",
    "*    ⚠️ Which ones may need cost control or pricing adjustments\n",
    "\n",
    "🔹 **📊** Chart Type:\n",
    "\n",
    "*    Vertical bar chart\n",
    "\n",
    "*    📈 Bars show average profit margin (%) per channel\n",
    "\n",
    "*    🔢 Sorted descending from most to least profitable\n",
    "\n",
    "*    🏷️ Data labels display exact margin values for easy comparison\n",
    "\n",
    "🔹 **🔍** EDA Type:\n",
    "\n",
    "Bivariate Analysis – comparing channel (category) vs. average profit margin (numeric)\n",
    "\n",
    "🔹 **🧱** Structure:\n",
    "\n",
    "*    X-axis: Sales channels (e.g., Wholesale, Distributor, Export)\n",
    "\n",
    "*    Y-axis: Average profit margin in percentage (%)\n",
    "\n",
    "*    🎨 Use a consistent and professional color palette (like 'Greens' or 'coolwarm')\n",
    "\n",
    "*    ✅ Add data labels on top of bars for clarity"
   ]
  },
  {
   "cell_type": "code",
   "execution_count": 27,
   "metadata": {
    "colab": {
     "base_uri": "https://localhost:8080/",
     "height": 407
    },
    "executionInfo": {
     "elapsed": 101,
     "status": "ok",
     "timestamp": 1752635355898,
     "user": {
      "displayName": "Premsainath Reddy",
      "userId": "07841810758834407388"
     },
     "user_tz": -330
    },
    "id": "_E0g-uQ4hNEu",
    "outputId": "59b99c6c-64a7-462f-9fa4-a4c95f7934b1"
   },
   "outputs": [
    {
     "data": {
      "image/png": "[encoded data removed]",
      "text/plain": [
       "<Figure size 600x400 with 1 Axes>"
      ]
     },
     "metadata": {},
     "output_type": "display_data"
    }
   ],
   "source": [
    "# Compute average profit margin percentage for each channel\n",
    "channel_margin = (\n",
    "    df.groupby('channel')['profit_margin_pct']\n",
    "      .mean()\n",
    "      .sort_values(ascending=False)\n",
    ")\n",
    "\n",
    "# Set the figure size for clarity\n",
    "plt.figure(figsize=(6, 4))\n",
    "\n",
    "# Plot a bar chart of average profit margin by channel\n",
    "ax = sns.barplot(\n",
    "    x=channel_margin.index,    # X-axis: channel names\n",
    "    y=channel_margin.values,   # Y-axis: average profit margin values\n",
    "    hue=channel_margin.index,\n",
    "    palette='coolwarm'         # Color palette for bars\n",
    ")\n",
    "\n",
    "# Add chart title and axis labels\n",
    "plt.title('Average Profit Margin by Channel')  # Main title\n",
    "plt.xlabel('Sales Channel')                    # X-axis label\n",
    "plt.ylabel('Avg Profit Margin (%)')             # Y-axis label\n",
    "\n",
    "# Annotate each bar with its exact margin percentage\n",
    "for i, v in enumerate(channel_margin.values):\n",
    "    ax.text(\n",
    "        i,                  # X position (bar index)\n",
    "        v+0.5,              # Y position (bar height + small offset)\n",
    "        f\"{v:.2f}%\",        # Text label showing percentage with two decimals\n",
    "        ha='center',        # Center-align the text horizontally\n",
    "        fontweight='bold'   # Bold font for readability\n",
    "    )\n",
    "\n",
    "# Adjust layout to prevent clipping and display the plot\n",
    "plt.tight_layout()\n",
    "plt.show()"
   ]
  },
  {
   "cell_type": "markdown",
   "metadata": {
    "id": "1iUo0GAX6r8H"
   },
   "source": [
    "# **📌 INSIGHTS — Average Profit Margin by Channel**\n",
    "\n",
    "*    **🚢** Export leads with an average margin of 37.93%, followed closely by Distributor (37.56%) and Wholesale (37.09%).\n",
    "\n",
    "*    **📏** The small margin difference (less than 0.2%) shows that all channels are equally profitable, indicating strong cost control and pricing consistency.\n",
    "\n",
    "*    **💡** What this means: Your sales strategy is efficient across the board.\n",
    "\n",
    "# ✅ Actionable Takeaways\n",
    "\n",
    "*    **🚀** Focus on growing volume in the Export channel to fully leverage its top margin.\n",
    "\n",
    "*    **🔧** Keep maintaining cost efficiency and pricing discipline in all channels for steady profitability."
   ]
  },
  {
   "cell_type": "markdown",
   "metadata": {
    "id": "fGYEpfOb9gQz"
   },
   "source": [
    "# **13. Top 10 States by Revenue and Order Count**\n",
    "🔹 **🎯** Goal\n",
    "\n",
    "Identify the highest-performing U.S. states based on:\n",
    "\n",
    "*    **💰** Total revenue (in millions USD)\n",
    "\n",
    "*    **📦** Number of orders\n",
    "\n",
    "This dual view helps determine whether a state performs well due to high order volume, large order sizes, or both.\n",
    "\n",
    "🔹 **📊** Chart Type\n",
    "\n",
    "Two side-by-side horizontal bar charts:\n",
    "\n",
    "*    🔹 Top 10 States by Revenue\n",
    "\n",
    "*    🔸 Top 10 States by Number of Orders\n",
    "\n",
    "🔹 **🔍** EDA Type\n",
    "\n",
    "Multivariate Analysis — comparing two metrics for the same variable (state):\n",
    "\n",
    "*    Revenue\n",
    "\n",
    "*    Order count\n",
    "\n",
    "🔹 **🧱** Structure\n",
    "\n",
    "*    Y-axis: State names\n",
    "\n",
    "*    X-axis (Chart 1): Total revenue (in millions)\n",
    "\n",
    "*    X-axis (Chart 2): Total number of orders\n",
    "\n",
    "*    **🎨** Use consistent but distinct color palettes (e.g., 'Blues' for revenue, 'Purples' for orders)\n",
    "\n",
    "*    **📈** Bars are sorted descending for easy comparison\n"
   ]
  },
  {
   "cell_type": "code",
   "execution_count": 28,
   "metadata": {
    "colab": {
     "base_uri": "https://localhost:8080/",
     "height": 570
    },
    "executionInfo": {
     "elapsed": 604,
     "status": "ok",
     "timestamp": 1752635356544,
     "user": {
      "displayName": "Premsainath Reddy",
      "userId": "07841810758834407388"
     },
     "user_tz": -330
    },
    "id": "-I8SkaHIhNIl",
    "outputId": "bda667c7-6795-41c6-b8fa-646e27b4352e"
   },
   "outputs": [
    {
     "data": {
      "image/png": "[encoded data removed]",
      "text/plain": [
       "<Figure size 1500x400 with 1 Axes>"
      ]
     },
     "metadata": {},
     "output_type": "display_data"
    },
    {
     "data": {
      "image/png": "[encoded data removed]",
      "text/plain": [
       "<Figure size 1500x400 with 1 Axes>"
      ]
     },
     "metadata": {},
     "output_type": "display_data"
    }
   ],
   "source": [
    "# Aggregate total revenue and unique order count per state\n",
    "state_rev = df.groupby('state_name').agg(\n",
    "    revenue=('revenue', 'sum'),          # Sum up revenue per state\n",
    "    orders=('order_number', 'nunique')   # Count unique orders per state\n",
    ").sort_values('revenue', ascending=False).head(10)  # Keep top 10 by revenue\n",
    "\n",
    "# Plot 1: Top 10 states by revenue (scaled to millions)\n",
    "plt.figure(figsize=(15, 4))\n",
    "sns.barplot(\n",
    "    x=state_rev.index,                   # X-axis: state names\n",
    "    y=state_rev['revenue'] / 1e6,        # Y-axis: revenue in millions\n",
    "    hue=state_rev.index,                 # Hue based on state names\n",
    "    palette='coolwarm'                   # Color palette\n",
    ")\n",
    "plt.title('Top 10 States by Revenue')     # Chart title\n",
    "plt.xlabel('State')                       # X-axis label\n",
    "plt.ylabel('Total Revenue (Million USD)') # Y-axis label\n",
    "plt.tight_layout()                        # Adjust layout\n",
    "plt.show()                                # Display the plot\n",
    "\n",
    "# Plot 2: Top 10 states by number of orders\n",
    "plt.figure(figsize=(15, 4))\n",
    "sns.barplot(\n",
    "    x=state_rev.index,                   # X-axis: state names\n",
    "    y=state_rev['orders'],               # Y-axis: order counts\n",
    "    hue=state_rev.index,                 # Hue based on state names\n",
    "    palette='coolwarm'                   # Color palette\n",
    ")\n",
    "plt.title('Top 10 States by Number of Orders')  # Chart title\n",
    "plt.xlabel('State')                              # X-axis label\n",
    "plt.ylabel('Order Count')                        # Y-axis label\n",
    "plt.tight_layout()                               # Adjust layout\n",
    "plt.show()                                       # Display the plot"
   ]
  },
  {
   "cell_type": "markdown",
   "metadata": {
    "id": "eUD-hasQJW0E"
   },
   "source": [
    "# **📊 Insights: Top 10 States by Revenue and Order Count**\n",
    "# **💰** Revenue (Top Chart)\n",
    "\n",
    " *   California leads by a wide margin with over 💲220 million in revenue, clearly outperforming all other states.\n",
    "\n",
    " *   Illinois, Florida, and Texas follow, each contributing between 💲85M and 💲115M.\n",
    "\n",
    " *  The bottom five (New York to Massachusetts) generate 💲35M–💲60M, showing a gradual decline across these states.\n",
    "\n",
    "\n",
    "**🔎** Insight:\n",
    "\n",
    "California is the most valuable market. Mid-tier states like Florida and Texas have growth potential, while lower-tier states need targeted efforts to improve performance.\n",
    "\n",
    "# **📦** Order Count (Bottom Chart):\n",
    "\n",
    "  *  Again, California dominates with 7500+ orders, nearly double that of second-place Illinois.\n",
    "\n",
    "  *  States like Florida and Texas also perform well with 3500–4000 orders.\n",
    "\n",
    "  *  The remaining states (New York to Massachusetts) receive 2000–2700 orders, indicating smaller volumes.\n",
    "\n",
    "**🔎** Insight:\n",
    "\n",
    "Revenue trends align closely with order volume — higher orders = higher revenue, suggesting consistent average order values across states.\n",
    "\n",
    "**🔄** Combined Insight:\n",
    "\n",
    "  *  **📌** The correlation between revenue and order count is strong, meaning states with more orders also earn more — no major anomalies found.\n",
    "\n",
    "  *  **🚀** Actionable Tip: Focus on increasing order volume in mid- and low-performing states. Even a small lift in orders could boost revenue significantly due to stable average order values."
   ]
  },
  {
   "cell_type": "markdown",
   "metadata": {
    "id": "D-kv7W8yOj4S"
   },
   "source": [
    "# **14.👥 Customer Segmentation: Revenue vs. Profit Margin**\n",
    "🔹 **🎯** Goal:\n",
    "\n",
    "Segment customers based on total revenue and average profit margin, while also considering their order volume.\n",
    "\n",
    "🔹 **📊** Chart Type:\n",
    "\n",
    "Bubble Chart (scatter plot with varying point sizes) — ideal for comparing three variables at once.\n",
    "\n",
    "🔹 **🔍** EDA Type:\n",
    "\n",
    "Multivariate Analysis – analyzing relationships between revenue, profit margin, and order count.\n",
    "\n",
    "🔹 **🧱** Structure:\n",
    "\n",
    "*    X-axis: Total revenue per customer\n",
    "\n",
    "*    Y-axis: Average profit margin per customer\n",
    "\n",
    "*    Bubble size: Number of orders placed\n",
    "\n",
    "*    Highlights high-value, high-margin, and frequent customers in one visual\n",
    "\n"
   ]
  },
  {
   "cell_type": "code",
   "execution_count": 29,
   "metadata": {
    "colab": {
     "base_uri": "https://localhost:8080/",
     "height": 507
    },
    "executionInfo": {
     "elapsed": 1064,
     "status": "ok",
     "timestamp": 1752636191039,
     "user": {
      "displayName": "Premsainath Reddy",
      "userId": "07841810758834407388"
     },
     "user_tz": -330
    },
    "id": "KS9vpGAryZBB",
    "outputId": "c8e7b3f0-1933-4827-af7b-7d0ed87e7cf3"
   },
   "outputs": [
    {
     "data": {
      "image/png": "[encoded data removed]",
      "text/plain": [
       "<Figure size 700x500 with 1 Axes>"
      ]
     },
     "metadata": {},
     "output_type": "display_data"
    }
   ],
   "source": [
    "# Aggregates  per customer\n",
    "cust_summary = df.groupby('customer_names').agg(\n",
    "    total_revenue=('revenue', 'sum'),\n",
    "    total_profit=('profit', 'sum'),\n",
    "    avg_margin=('profit_margin_pct', 'mean'),\n",
    "    orders=('order_number', 'nunique')\n",
    ")\n",
    "\n",
    "# Convert revenue to millions\n",
    "cust_summary['total_revenue_m'] = cust_summary['total_revenue'] / 1e6\n",
    "\n",
    "plt.figure(figsize=(7, 5))\n",
    "\n",
    "# Bubble chart with revenue in millions\n",
    "sns.scatterplot(\n",
    "    data=cust_summary,\n",
    "    x='total_revenue_m',        # <-- use revenue in millions\n",
    "    y='avg_margin',\n",
    "    size='orders',\n",
    "    sizes=(20, 200),\n",
    "    alpha=0.7\n",
    ")\n",
    "\n",
    "plt.title('Customer Segmentation: Revenue vs. Profit Margin')\n",
    "plt.xlabel('Total Revenue (Million USD)')  # <-- updated label\n",
    "plt.ylabel('Avg Profit Margin (%)')\n",
    "\n",
    "plt.tight_layout()\n",
    "plt.show()\n"
   ]
  },
  {
   "cell_type": "markdown",
   "metadata": {
    "id": "EvSDLZCfRlsE"
   },
   "source": [
    "# **📌 Insights – Customer Segmentation: Revenue vs. Profit Margin**\n",
    "\n",
    "*    **💰** High-revenue customers (>💲10M) maintain stable profit margins (36–40%), showing that scaling up doesn’t reduce profitability.\n",
    "\n",
    "*    **📊** Most customers fall in the 💲6M–💲10M revenue range with consistent margins around 34–40%, indicating balanced pricing in this tier.\n",
    "\n",
    "*    **⚠️** Smaller customers (<💲6M) show high margin variability (33–43%), possibly due to inconsistent pricing or cost fluctuations.\n",
    "\n",
    "*    **🔵** Bubble sizes (order volume) grow with revenue, but profit margins remain steady — confirming that revenue is the key performance driver, not order count."
   ]
  },
  {
   "cell_type": "markdown",
   "metadata": {
    "id": "Bq_EERj7SELd"
   },
   "source": [
    "# **15.🔥 Correlation Heatmap of Numeric Features**\n",
    "🔹 **🎯** Goal:\n",
    "\n",
    "Reveal relationships among key numeric variables to detect patterns, trends, or signs of multicollinearity that may impact modeling.\n",
    "\n",
    "🔹 **📊** Chart Type:\n",
    "\n",
    "Correlation Heatmap — visually represents how strongly pairs of numeric features are related.\n",
    "\n",
    "🔹 **🔍** EDA Type:\n",
    "\n",
    "Multivariate Analysis – evaluating interactions between multiple numeric variables.\n",
    "\n",
    "🔹 **🧱** Structure:\n",
    "\n",
    " *   Uses Pearson correlation coefficients\n",
    "\n",
    " *   Values range from -1 to +1\n",
    "\n",
    " *   Annotated cells to show exact correlation strength"
   ]
  },
  {
   "cell_type": "code",
   "execution_count": 30,
   "metadata": {
    "colab": {
     "base_uri": "https://localhost:8080/",
     "height": 406
    },
    "executionInfo": {
     "elapsed": 284,
     "status": "ok",
     "timestamp": 1752636873917,
     "user": {
      "displayName": "Premsainath Reddy",
      "userId": "07841810758834407388"
     },
     "user_tz": -330
    },
    "id": "BLFVCMYOyZEX",
    "outputId": "f910bab9-9ff8-44f5-8e3e-5f31925b8c32"
   },
   "outputs": [
    {
     "data": {
      "image/png": "[encoded data removed]",
      "text/plain": [
       "<Figure size 600x400 with 2 Axes>"
      ]
     },
     "metadata": {},
     "output_type": "display_data"
    }
   ],
   "source": [
    "# List numeric columns to include in the correlation calculation\n",
    "num_cols = ['quantity', 'unit_price', 'revenue', 'cost', 'profit']\n",
    "\n",
    "# Calculate the correlation matrix for these numeric features\n",
    "corr = df[num_cols].corr()\n",
    "\n",
    "# Set the figure size for clarity\n",
    "plt.figure(figsize=(6,4))\n",
    "\n",
    "# Plot the heatmap with annotations and a viridis colormap\n",
    "sns.heatmap(\n",
    "    corr,           # Data: correlation matrix\n",
    "    annot=True,     # Display the correlation coefficients on the heatmap\n",
    "    fmt=\".2f\",      # Format numbers to two decimal places\n",
    "    cmap='viridis'  # Color palette for the heatmap\n",
    ")\n",
    "\n",
    "# Add title for context\n",
    "plt.title('Correlation Matrix')\n",
    "\n",
    "# Adjust layout to prevent clipping\n",
    "plt.tight_layout()\n",
    "\n",
    "# Display the heatmap\n",
    "plt.show()"
   ]
  },
  {
   "cell_type": "markdown",
   "metadata": {
    "id": "awoL_V2eUzii"
   },
   "source": [
    "# **📊 Insights – Correlation Heatmap**\n",
    "\n",
    "*    **💰** Profit and revenue show a very strong correlation (0.87) — as sales grow, profits typically rise too.\n",
    "\n",
    "*    **🏷️** Unit price is a major driver:\n",
    "\n",
    "      *  Strong correlation with revenue (0.91)\n",
    "\n",
    "      *  Strong correlation with profit (0.79)\n",
    "\n",
    "      *  Very strong correlation with cost (0.94)\n",
    "\n",
    "        🔁 This shows that pricing decisions directly impact both income and expenses.\n",
    "\n",
    "*    **💸** Cost is also closely linked to revenue (0.85), but only moderately correlated with profit (0.58) — indicating that profitability can still vary despite higher costs.\n",
    "\n",
    "*    **📦** Quantity plays a secondary role:\n",
    "\n",
    "     * Nearly zero correlation with unit price or cost (~0.00)\n",
    "\n",
    "     * Only modest impact on revenue (0.34) and profit (0.30)"
   ]
  },
  {
   "cell_type": "code",
   "execution_count": 31,
   "metadata": {
    "colab": {
     "base_uri": "https://localhost:8080/",
     "height": 273
    },
    "executionInfo": {
     "elapsed": 167,
     "status": "ok",
     "timestamp": 1752638490744,
     "user": {
      "displayName": "Premsainath Reddy",
      "userId": "07841810758834407388"
     },
     "user_tz": -330
    },
    "id": "rhyt2hZqyZHu",
    "outputId": "70678bd7-2edb-4a04-fdaa-9024283db649"
   },
   "outputs": [
    {
     "data": {
      "text/html": [
       "<div>\n",
       "<style scoped>\n",
       "    .dataframe tbody tr th:only-of-type {\n",
       "        vertical-align: middle;\n",
       "    }\n",
       "\n",
       "    .dataframe tbody tr th {\n",
       "        vertical-align: top;\n",
       "    }\n",
       "\n",
       "    .dataframe thead th {\n",
       "        text-align: right;\n",
       "    }\n",
       "</style>\n",
       "<table border=\"1\" class=\"dataframe\">\n",
       "  <thead>\n",
       "    <tr style=\"text-align: right;\">\n",
       "      <th></th>\n",
       "      <th>order_number</th>\n",
       "      <th>order_date</th>\n",
       "      <th>customer_names</th>\n",
       "      <th>channel</th>\n",
       "      <th>product_name</th>\n",
       "      <th>quantity</th>\n",
       "      <th>unit_price</th>\n",
       "      <th>revenue</th>\n",
       "      <th>cost</th>\n",
       "      <th>state_code</th>\n",
       "      <th>...</th>\n",
       "      <th>us_region</th>\n",
       "      <th>latitude</th>\n",
       "      <th>longitude</th>\n",
       "      <th>budget</th>\n",
       "      <th>total_cost</th>\n",
       "      <th>profit</th>\n",
       "      <th>profit_margin_pct</th>\n",
       "      <th>order_month_name</th>\n",
       "      <th>order_month_num</th>\n",
       "      <th>order_month</th>\n",
       "    </tr>\n",
       "  </thead>\n",
       "  <tbody>\n",
       "    <tr>\n",
       "      <th>0</th>\n",
       "      <td>SO - 000225</td>\n",
       "      <td>2014-01-01</td>\n",
       "      <td>Rhynoodle Ltd</td>\n",
       "      <td>Wholesale</td>\n",
       "      <td>Product 27</td>\n",
       "      <td>6</td>\n",
       "      <td>2499.1</td>\n",
       "      <td>14994.6</td>\n",
       "      <td>1824.343</td>\n",
       "      <td>GA</td>\n",
       "      <td>...</td>\n",
       "      <td>South</td>\n",
       "      <td>32.08354</td>\n",
       "      <td>-81.09983</td>\n",
       "      <td>NaN</td>\n",
       "      <td>10946.058</td>\n",
       "      <td>4048.542</td>\n",
       "      <td>27.0</td>\n",
       "      <td>January</td>\n",
       "      <td>1</td>\n",
       "      <td>2014-01</td>\n",
       "    </tr>\n",
       "    <tr>\n",
       "      <th>1</th>\n",
       "      <td>SO - 0003378</td>\n",
       "      <td>2014-01-01</td>\n",
       "      <td>Thoughtmix Ltd</td>\n",
       "      <td>Distributor</td>\n",
       "      <td>Product 20</td>\n",
       "      <td>11</td>\n",
       "      <td>2351.7</td>\n",
       "      <td>25868.7</td>\n",
       "      <td>1269.918</td>\n",
       "      <td>IN</td>\n",
       "      <td>...</td>\n",
       "      <td>Midwest</td>\n",
       "      <td>39.61366</td>\n",
       "      <td>-86.10665</td>\n",
       "      <td>NaN</td>\n",
       "      <td>13969.098</td>\n",
       "      <td>11899.602</td>\n",
       "      <td>46.0</td>\n",
       "      <td>January</td>\n",
       "      <td>1</td>\n",
       "      <td>2014-01</td>\n",
       "    </tr>\n",
       "    <tr>\n",
       "      <th>2</th>\n",
       "      <td>SO - 0005126</td>\n",
       "      <td>2014-01-01</td>\n",
       "      <td>Amerisourc Corp</td>\n",
       "      <td>Wholesale</td>\n",
       "      <td>Product 26</td>\n",
       "      <td>6</td>\n",
       "      <td>978.2</td>\n",
       "      <td>5869.2</td>\n",
       "      <td>684.740</td>\n",
       "      <td>CA</td>\n",
       "      <td>...</td>\n",
       "      <td>West</td>\n",
       "      <td>37.66243</td>\n",
       "      <td>-121.87468</td>\n",
       "      <td>NaN</td>\n",
       "      <td>4108.440</td>\n",
       "      <td>1760.760</td>\n",
       "      <td>30.0</td>\n",
       "      <td>January</td>\n",
       "      <td>1</td>\n",
       "      <td>2014-01</td>\n",
       "    </tr>\n",
       "    <tr>\n",
       "      <th>3</th>\n",
       "      <td>SO - 0005614</td>\n",
       "      <td>2014-01-01</td>\n",
       "      <td>Colgate-Pa Group</td>\n",
       "      <td>Export</td>\n",
       "      <td>Product 7</td>\n",
       "      <td>7</td>\n",
       "      <td>2338.3</td>\n",
       "      <td>16368.1</td>\n",
       "      <td>1028.852</td>\n",
       "      <td>IN</td>\n",
       "      <td>...</td>\n",
       "      <td>Midwest</td>\n",
       "      <td>39.16533</td>\n",
       "      <td>-86.52639</td>\n",
       "      <td>NaN</td>\n",
       "      <td>7201.964</td>\n",
       "      <td>9166.136</td>\n",
       "      <td>56.0</td>\n",
       "      <td>January</td>\n",
       "      <td>1</td>\n",
       "      <td>2014-01</td>\n",
       "    </tr>\n",
       "    <tr>\n",
       "      <th>4</th>\n",
       "      <td>SO - 0005781</td>\n",
       "      <td>2014-01-01</td>\n",
       "      <td>Deseret Group</td>\n",
       "      <td>Wholesale</td>\n",
       "      <td>Product 8</td>\n",
       "      <td>8</td>\n",
       "      <td>2291.4</td>\n",
       "      <td>18331.2</td>\n",
       "      <td>1260.270</td>\n",
       "      <td>CT</td>\n",
       "      <td>...</td>\n",
       "      <td>Northeast</td>\n",
       "      <td>41.77524</td>\n",
       "      <td>-72.52443</td>\n",
       "      <td>NaN</td>\n",
       "      <td>10082.160</td>\n",
       "      <td>8249.040</td>\n",
       "      <td>45.0</td>\n",
       "      <td>January</td>\n",
       "      <td>1</td>\n",
       "      <td>2014-01</td>\n",
       "    </tr>\n",
       "  </tbody>\n",
       "</table>\n",
       "<p>5 rows × 21 columns</p>\n",
       "</div>"
      ],
      "text/plain": [
       "   order_number order_date    customer_names      channel product_name  \\\n",
       "0   SO - 000225 2014-01-01     Rhynoodle Ltd    Wholesale   Product 27   \n",
       "1  SO - 0003378 2014-01-01    Thoughtmix Ltd  Distributor   Product 20   \n",
       "2  SO - 0005126 2014-01-01   Amerisourc Corp    Wholesale   Product 26   \n",
       "3  SO - 0005614 2014-01-01  Colgate-Pa Group       Export    Product 7   \n",
       "4  SO - 0005781 2014-01-01     Deseret Group    Wholesale    Product 8   \n",
       "\n",
       "   quantity  unit_price  revenue      cost state_code  ...  us_region  \\\n",
       "0         6      2499.1  14994.6  1824.343         GA  ...      South   \n",
       "1        11      2351.7  25868.7  1269.918         IN  ...    Midwest   \n",
       "2         6       978.2   5869.2   684.740         CA  ...       West   \n",
       "3         7      2338.3  16368.1  1028.852         IN  ...    Midwest   \n",
       "4         8      2291.4  18331.2  1260.270         CT  ...  Northeast   \n",
       "\n",
       "   latitude  longitude  budget  total_cost     profit  profit_margin_pct  \\\n",
       "0  32.08354  -81.09983     NaN   10946.058   4048.542               27.0   \n",
       "1  39.61366  -86.10665     NaN   13969.098  11899.602               46.0   \n",
       "2  37.66243 -121.87468     NaN    4108.440   1760.760               30.0   \n",
       "3  39.16533  -86.52639     NaN    7201.964   9166.136               56.0   \n",
       "4  41.77524  -72.52443     NaN   10082.160   8249.040               45.0   \n",
       "\n",
       "   order_month_name order_month_num  order_month  \n",
       "0           January               1      2014-01  \n",
       "1           January               1      2014-01  \n",
       "2           January               1      2014-01  \n",
       "3           January               1      2014-01  \n",
       "4           January               1      2014-01  \n",
       "\n",
       "[5 rows x 21 columns]"
      ]
     },
     "execution_count": 31,
     "metadata": {},
     "output_type": "execute_result"
    }
   ],
   "source": [
    "df.head()"
   ]
  },
  {
   "cell_type": "code",
   "execution_count": 32,
   "metadata": {
    "executionInfo": {
     "elapsed": 1131,
     "status": "ok",
     "timestamp": 1752637574430,
     "user": {
      "displayName": "Premsainath Reddy",
      "userId": "07841810758834407388"
     },
     "user_tz": -330
    },
    "id": "LHb3wc7ehNL7"
   },
   "outputs": [],
   "source": [
    "# Export Final DataFrame to CSV\n",
    "df.to_csv('Data/Sales_data(EDA_Exported).csv', index=False)"
   ]
  },
  {
   "cell_type": "markdown",
   "metadata": {
    "id": "JbCvQOxxWXJ6"
   },
   "source": [
    "# **📋📈 Executive Summary – Key EDA Insights**\n",
    "#⌯⌲   **📅** Monthly Revenue Cycle:\n",
    "\n",
    "*    Revenue remains steady between 💲23M–💲26.5M (2014–2017) with no clear seasonality.\n",
    "*    ⚠️ Notable dip to 💲21.2M in early 2017 suggests a one-time disruption.\n",
    "\n",
    "#⌯⌲  **🛍️** Channel Mix:\n",
    "\n",
    "*       Wholesale: 54%\n",
    "\n",
    "*       Distributors: 31%\n",
    "\n",
    "*       Exports: 15%\n",
    "\n",
    "        🔍 Potential to expand international sales and reduce dependency on domestic channels.\n",
    "\n",
    "#⌯⌲   **🏆** Top Products by Revenue\n",
    "\n",
    "*        Product 26: 💲118M\n",
    "\n",
    "*        Product 25: 💲110M\n",
    "\n",
    "*        Product 13: 💲78M\n",
    "\n",
    "        📊 Mid-tier range: 💲68M–💲75M | Lower-tier: 💲52M–💲57M\n",
    "\n",
    "#⌯⌲    **💸** Profit Margins\n",
    "*    Margins range from ~18% to ~60%, with no strong link to unit price.\n",
    "*    Horizontal bands in scatter plots hint at standardized pricing across products.\n",
    "\n",
    "#⌯⌲    **📦** Seasonal Volume\n",
    " *   No strong pattern, though May–June shows a minor volume increase.\n",
    " *   **🔻** Sharp revenue fall in early 2017 may warrant deeper review.\n",
    "\n",
    " *  **🌎** Regional Performance\n",
    "\n",
    "      *  **🥇** California: ~💲230M revenue & 7500+ orders\n",
    "\n",
    "      *  **🥈** Illinois, Florida, Texas: ~💲85M–💲110M & 3500–4500 orders\n",
    "\n",
    "      *  **🥉** NY & Indiana: ~💲54M revenue & 2000+ orders"
   ]
  }
 ],
 "metadata": {
  "colab": {
   "authorship_tag": "ABX9TyOsT/JQSavGpOC/e8DBjnhu",
   "provenance": []
  },
  "kernelspec": {
   "display_name": "Python 3 (ipykernel)",
   "language": "python",
   "name": "python3"
  },
  "language_info": {
   "codemirror_mode": {
    "name": "ipython",
    "version": 3
   },
   "file_extension": ".py",
   "mimetype": "text/x-python",
   "name": "python",
   "nbconvert_exporter": "python",
   "pygments_lexer": "ipython3",
   "version": "3.12.4"
  }
 },
 "nbformat": 4,
 "nbformat_minor": 4
}
